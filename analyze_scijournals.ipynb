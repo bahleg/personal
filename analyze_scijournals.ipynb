{
 "cells": [
  {
   "cell_type": "code",
   "execution_count": 87,
   "metadata": {},
   "outputs": [],
   "source": [
    "good_journals = \"\"\"Topics in Cognitive Science\n",
    "Theory and Practice of Logic Programming\n",
    "Swarm Intelligence\n",
    "Soft Robotics\n",
    "Science Robotics\n",
    "Robotics\n",
    "Physics of Life Reviews\n",
    "Pattern Recognition Letters\n",
    "Pattern Recognition\n",
    "Pattern Analysis and Applications\n",
    "Neurocomputing\n",
    "Neural Processing Letters\n",
    "Neural Networks\n",
    "Neural Computing and Applications\n",
    "Networks and Spatial Economics\n",
    "Network Neuroscience\n",
    "Natural Language Engineering\n",
    "Multidimensional Systems and Signal Processing\n",
    "Minds and Machines\n",
    "Machine Learning\n",
    "Kybernetes\n",
    "Knowledge-Based Systems\n",
    "Knowledge Engineering Review\n",
    "Knowledge and Information Systems\n",
    "Journal of the ACM\n",
    "Journal of Scheduling\n",
    "Journal of Parallel and Distributed Computing\n",
    "Journal of Memory and Language\n",
    "Journal of Machine Learning Research\n",
    "Journal of Intelligent Manufacturing\n",
    "Journal of Intelligent Information Systems\n",
    "Journal of Intelligent and Robotic Systems: Theory and Applications\n",
    "Journal of Intelligent and Fuzzy Systems\n",
    "Journal of Heuristics\n",
    "Journal of Experimental and Theoretical Artificial Intelligence\n",
    "Journal of Automated Reasoning\n",
    "Journal of Artificial Intelligence Research\n",
    "Journal of Artificial Intelligence and Soft Computing Research\n",
    "Iranian Journal of Fuzzy Systems\n",
    "International Journal of Robotics Research\n",
    "International Journal of Machine Learning and Cybernetics\n",
    "International Journal of Intelligent Systems\n",
    "International Journal of Intelligent Robotics and Applications\n",
    "International Journal of Information Management\n",
    "International Journal of Fuzzy Systems\n",
    "International Journal of Approximate Reasoning\n",
    "International Journal of Advanced Robotic Systems\n",
    "Intelligent Service Robotics\n",
    "Integrated Computer-Aided Engineering\n",
    "Information Sciences\n",
    "IEEE/CAA Journal of Automatica Sinica\n",
    "IEEE Transactions on Pattern Analysis and Machine Intelligence\n",
    "IEEE Transactions on Neural Networks and Learning Systems\n",
    "IEEE Transactions on Human-Machine Systems\n",
    "IEEE Transactions on Fuzzy Systems\n",
    "IEEE Transactions on Cognitive Communications and Networking\n",
    "IEEE Transactions on Cognitive and Developmental Systems\n",
    "IEEE Intelligent Systems\n",
    "IEEE Computational Intelligence Magazine\n",
    "ICT Express\n",
    "Fuzzy Sets and Systems\n",
    "Fuzzy Optimization and Decision Making\n",
    "Frontiers Robotics AI\n",
    "Frontiers in Neurorobotics\n",
    "Foundations and Trends in Machine Learning\n",
    "Expert Systems with Applications\n",
    "Expert Systems\n",
    "Evolutionary Intelligence\n",
    "Engineering Applications of Artificial Intelligence\n",
    "Digital Signal Processing: A Review Journal\n",
    "Design Studies\n",
    "Cybernetics and Systems\n",
    "Constraints\n",
    "Computational Linguistics\n",
    "Cognitive Systems Research\n",
    "Cognitive Science\n",
    "Cognitive Psychology\n",
    "Autonomous Robots\n",
    "Artificial Intelligence Review\n",
    "Artificial Intelligence in Medicine\n",
    "Artificial Intelligence and Law\n",
    "Artificial Intelligence\n",
    "Applied Intelligence\n",
    "Applied Computational Intelligence and Soft Computing\n",
    "AI Magazine\n",
    "Advanced Engineering Informatics\n",
    "ACM Transactions on Interactive Intelligent Systems\n",
    "ACM Transactions on Intelligent Systems and Technology\n",
    "ACM Transactions on Cyber-Physical Systems\n",
    "Spatial Cognition and Computation\n",
    "Signal Processing: Image Communication\n",
    "Medical Image Analysis\n",
    "Machine Vision and Applications\n",
    "Journal of Visual Communication and Image Representation\n",
    "Journal of the Optical Society of America A: Optics and Image Science, and Vision\n",
    "Journal of Mathematical Imaging and Vision\n",
    "Journal of Imaging\n",
    "International Journal on Document Analysis and Recognition\n",
    "International Journal of Machine Learning and Cybernetics\n",
    "International Journal of Imaging Systems and Technology\n",
    "International Journal of Computer Vision\n",
    "International journal of computer assisted radiology and surgery\n",
    "Image and Vision Computing\n",
    "IET Computer Vision\n",
    "IET Biometrics\n",
    "IEEE Transactions on Visualization and Computer Graphics\n",
    "Computing and Visualization in Science\n",
    "Computers and Graphics\n",
    "Computerized Medical Imaging and Graphics\n",
    "Computer Vision and Image Understanding\n",
    "Computer Optics\n",
    "Cognitive Computation\n",
    "Smart Materials and Structures\n",
    "Signal, Image and Video Processing\n",
    "Signal Processing\n",
    "Quantum Information Processing\n",
    "Multidimensional Systems and Signal Processing\n",
    "Mechanical Systems and Signal Processing\n",
    "Journal of Visual Communication and Image Representation\n",
    "Journal of the Franklin Institute\n",
    "Inverse Problems\n",
    "International Journal of Adaptive Control and Signal Processing\n",
    "Information Fusion\n",
    "IET Signal Processing\n",
    "IEEE/ACM Transactions on Audio Speech and Language Processing\n",
    "IEEE Transactions on Visualization and Computer Graphics\n",
    "IEEE Transactions on Signal Processing\n",
    "IEEE Transactions on Signal and Information Processing over Networks\n",
    "IEEE Transactions on Parallel and Distributed Systems\n",
    "IEEE Transactions on Multimedia\n",
    "IEEE Transactions on Control of Network Systems\n",
    "IEEE Transactions on Computational Imaging\n",
    "IEEE Signal Processing Magazine\n",
    "IEEE Signal Processing Letters\n",
    "IEEE Multimedia\n",
    "IEEE Journal on Selected Topics in Signal Processing\n",
    "IEEE Internet of Things Journal\n",
    "Frontiers of Information Technology and Electronic Engineering\n",
    "Foundations and Trends in Signal Processing\n",
    "Eurasip Journal on Information Security\n",
    "Eurasip Journal on Image and Video Processing\n",
    "Eurasip Journal on Bioinformatics and Systems Biology\n",
    "Electronics (Switzerland)\n",
    "Circuits, Systems, and Signal Processing\n",
    "Biomedical Signal Processing and Control\n",
    "ACM Transactions on Spatial Algorithms and Systems\n",
    "Speech Communication\n",
    "ReCALL\n",
    "Machine Translation\n",
    "Language Resources and Evaluation\n",
    "Language Learning and Technology\n",
    "International Journal of Speech Technology\n",
    "International Journal of Corpus Linguistics\n",
    "Corpus Linguistics and Linguistic Theory\n",
    "Computer Assisted Language Learning\n",
    "CALICO Journal\n",
    "Applied Ontology\n",
    "Wiley Interdisciplinary Reviews: Computational Molecular Science\n",
    "Wave Motion\n",
    "Smart Science\n",
    "SIAM Review\n",
    "SIAM Journal on Numerical Analysis\n",
    "SIAM Journal on Mathematical Analysis\n",
    "SIAM Journal of Scientific Computing\n",
    "Revista de la Real Academia de Ciencias Exactas, Fisicas y Naturales - Serie A: Matematicas\n",
    "Numerische Mathematik\n",
    "Numerical Mathematics\n",
    "Mathematics of Computation\n",
    "Journal of Symbolic Computation\n",
    "Journal of Numerical Mathematics\n",
    "Journal of Computational Design and Engineering\n",
    "Journal of Computational and Applied Mathematics\n",
    "Journal of Applied Mathematics and Computing\n",
    "Journal of Algorithms and Computational Technology\n",
    "International Journal of Computing Science and Mathematics\n",
    "International Journal of Computational Science and Engineering\n",
    "International Journal of Computational Methods\n",
    "International Journal of Computational Intelligence Systems\n",
    "IMA Journal of Numerical Analysis\n",
    "IEEE Transactions on Computational Imaging\n",
    "Foundations of Computational Mathematics\n",
    "Forum of Mathematics, Sigma\n",
    "Evolutionary Computation\n",
    "EURO Journal on Computational Optimization\n",
    "ESAIM: Mathematical Modelling and Numerical Analysis\n",
    "ESAIM - Control, Optimisation and Calculus of Variations\n",
    "EPJ Data Science\n",
    "Constructive Approximation\n",
    "Computing (Vienna/New York)\n",
    "Computational Statistics\n",
    "Computational Optimization and Applications\n",
    "Computational Methods in Applied Mathematics\n",
    "Computational Materials Science\n",
    "Computational Intelligence\n",
    "Computational and Mathematical Organization Theory\n",
    "Computational and Applied Mathematics\n",
    "Communications in Mathematics and Statistics\n",
    "Applied Numerical Mathematics\n",
    "Applied Mathematics and Computation\n",
    "Advances in Fuzzy Systems\n",
    "Advances in Computational Mathematics\n",
    "Advances in Computational Design\n",
    "ACM Transactions on Computational Logic\n",
    "IEEE Transactions on Evolutionary Computation\n",
    "ACM Transactions on Computation Theory\n",
    "New Mathematics and Natural Computation\n",
    "Information and Computation\n",
    "Computational Statistics and Data Analysis\n",
    "Engineering Computations\n",
    "Journal of Logical and Algebraic Methods in Programming\n",
    "Fundamenta Informaticae\n",
    "International Journal of Computer Mathematics\n",
    "Intelligent Automation and Soft Computing\n",
    "Match\n",
    "International Journal of Fuzzy Logic and Intelligent Systems\n",
    "Algorithms\n",
    "Journal of Organizational Computing and Electronic Commerce\n",
    "Distributed Computing\n",
    "Journal of Computer and System Sciences\n",
    "Journal of Computer Science and Technology\n",
    "Technology, Knowledge and Learning\n",
    "Journal of Scientific Computing\n",
    "International Journal of Computers, Communications and Control\n",
    "Computing (Vienna/New York)\n",
    "Information and Inference\n",
    "Journal of Computer Virology and Hacking Techniques\n",
    "Software-Intensive Cyber-Physical Systems\n",
    "Statistics and Computing\n",
    "IEEE Transactions on Computers\n",
    "Computers and Mathematics with Applications\n",
    "Operational Research\n",
    "International Journal of Artificial Intelligence in Education\n",
    "IEEE Pervasive Computing\n",
    "IEEE Transactions on Knowledge and Data Engineering\"\"\".splitlines()"
   ]
  },
  {
   "cell_type": "code",
   "execution_count": 118,
   "metadata": {},
   "outputs": [],
   "source": [
    "journals = {}\n",
    "with open('/home/legin/Downloads/scimagojr 2019.csv') as inp:\n",
    "    jrns = inp.readlines()\n",
    "    for k in jrns:       \n",
    "        journals[k.split(';')[2].strip('\"')] = k.split(';')[1]"
   ]
  },
  {
   "cell_type": "code",
   "execution_count": 81,
   "metadata": {},
   "outputs": [
    {
     "name": "stderr",
     "output_type": "stream",
     "text": [
      "\r",
      "  0%|          | 0/239 [00:00<?, ?it/s]"
     ]
    },
    {
     "name": "stdout",
     "output_type": "stream",
     "text": [
      "found Applied Mathematics and Computation https://www.journals.elsevier.com/applied-mathematics-and-computation\n"
     ]
    },
    {
     "name": "stderr",
     "output_type": "stream",
     "text": [
      "\r",
      " 83%|████████▎ | 199/239 [00:09<00:01, 21.46it/s]"
     ]
    },
    {
     "name": "stdout",
     "output_type": "stream",
     "text": [
      "found Advances in Fuzzy Systems http://www.hindawi.com/journals/afs/\n"
     ]
    },
    {
     "name": "stderr",
     "output_type": "stream",
     "text": [
      "\r",
      " 84%|████████▎ | 200/239 [00:19<02:01,  3.12s/it]"
     ]
    },
    {
     "name": "stdout",
     "output_type": "stream",
     "text": [
      "found Advances in Computational Mathematics https://www.springer.com/journal/10444\n"
     ]
    },
    {
     "name": "stderr",
     "output_type": "stream",
     "text": [
      "\r",
      " 84%|████████▍ | 201/239 [00:29<03:21,  5.30s/it]"
     ]
    },
    {
     "name": "stdout",
     "output_type": "stream",
     "text": [
      "found Advances in Computational Design http://www.techno-press.org/?journal=acd&subpage=5\n"
     ]
    },
    {
     "name": "stderr",
     "output_type": "stream",
     "text": [
      "\r",
      " 85%|████████▍ | 202/239 [00:39<04:01,  6.52s/it]"
     ]
    },
    {
     "name": "stdout",
     "output_type": "stream",
     "text": [
      "found ACM Transactions on Computational Logic https://dl.acm.org/journal/tocl\n"
     ]
    },
    {
     "name": "stderr",
     "output_type": "stream",
     "text": [
      "\r",
      " 85%|████████▍ | 203/239 [00:46<03:57,  6.59s/it]"
     ]
    },
    {
     "name": "stdout",
     "output_type": "stream",
     "text": [
      "found IEEE Transactions on Evolutionary Computation http://ieeexplore.ieee.org/xpl/RecentIssue.jsp?punumber=4235\n"
     ]
    },
    {
     "name": "stderr",
     "output_type": "stream",
     "text": [
      "\r",
      " 85%|████████▌ | 204/239 [00:56<04:25,  7.59s/it]"
     ]
    },
    {
     "name": "stdout",
     "output_type": "stream",
     "text": [
      "not found International Journal of Innovative Computing, Information and Control\n"
     ]
    },
    {
     "name": "stderr",
     "output_type": "stream",
     "text": [
      "\r",
      " 86%|████████▌ | 205/239 [01:05<04:38,  8.20s/it]"
     ]
    },
    {
     "name": "stdout",
     "output_type": "stream",
     "text": [
      "found Discrete Optimization https://www.journals.elsevier.com/discrete-optimization\n"
     ]
    },
    {
     "name": "stderr",
     "output_type": "stream",
     "text": [
      "\r",
      " 86%|████████▌ | 206/239 [01:20<05:37, 10.21s/it]"
     ]
    },
    {
     "name": "stdout",
     "output_type": "stream",
     "text": [
      "found ACM Transactions on Computation Theory https://dl.acm.org/journal/toct\n"
     ]
    },
    {
     "name": "stderr",
     "output_type": "stream",
     "text": [
      "\r",
      " 87%|████████▋ | 207/239 [01:27<04:55,  9.23s/it]"
     ]
    },
    {
     "name": "stdout",
     "output_type": "stream",
     "text": [
      "found Dynamic Games and Applications https://www.springer.com/journal/13235\n"
     ]
    },
    {
     "name": "stderr",
     "output_type": "stream",
     "text": [
      "\r",
      " 87%|████████▋ | 208/239 [01:40<05:24, 10.45s/it]"
     ]
    },
    {
     "name": "stdout",
     "output_type": "stream",
     "text": [
      "found Queueing Systems https://www.springer.com/journal/11134\n"
     ]
    },
    {
     "name": "stderr",
     "output_type": "stream",
     "text": [
      "\r",
      " 87%|████████▋ | 209/239 [01:56<05:58, 11.93s/it]"
     ]
    },
    {
     "name": "stdout",
     "output_type": "stream",
     "text": [
      "found New Mathematics and Natural Computation https://www.worldscientific.com/worldscinet/nmnc\n"
     ]
    },
    {
     "name": "stderr",
     "output_type": "stream",
     "text": [
      "\r",
      " 88%|████████▊ | 210/239 [02:07<05:39, 11.72s/it]"
     ]
    },
    {
     "name": "stdout",
     "output_type": "stream",
     "text": [
      "found Information and Computation https://www.journals.elsevier.com/information-and-computation\n"
     ]
    },
    {
     "name": "stderr",
     "output_type": "stream",
     "text": [
      "\r",
      " 88%|████████▊ | 211/239 [02:22<05:54, 12.67s/it]"
     ]
    },
    {
     "name": "stdout",
     "output_type": "stream",
     "text": [
      "found Journal of Molecular Modeling https://www.springer.com/journal/894\n"
     ]
    },
    {
     "name": "stderr",
     "output_type": "stream",
     "text": [
      "\r",
      " 89%|████████▊ | 212/239 [02:31<05:15, 11.69s/it]"
     ]
    },
    {
     "name": "stdout",
     "output_type": "stream",
     "text": [
      "found Computational Statistics and Data Analysis https://www.journals.elsevier.com/computational-statistics-and-data-analysis\n"
     ]
    },
    {
     "name": "stderr",
     "output_type": "stream",
     "text": [
      "\r",
      " 89%|████████▉ | 213/239 [02:46<05:27, 12.61s/it]"
     ]
    },
    {
     "name": "stdout",
     "output_type": "stream",
     "text": [
      "found Engineering Computations https://www.emerald.com/insight/publication/issn/0264-4401\n"
     ]
    },
    {
     "name": "stderr",
     "output_type": "stream",
     "text": [
      "\r",
      " 90%|████████▉ | 214/239 [02:53<04:33, 10.93s/it]"
     ]
    },
    {
     "name": "stdout",
     "output_type": "stream",
     "text": [
      "found Journal of Logical and Algebraic Methods in Programming https://www.journals.elsevier.com/journal-of-logical-and-algebraic-methods-in-programming\n"
     ]
    },
    {
     "name": "stderr",
     "output_type": "stream",
     "text": [
      "\r",
      " 90%|████████▉ | 215/239 [03:06<04:39, 11.66s/it]"
     ]
    },
    {
     "name": "stdout",
     "output_type": "stream",
     "text": [
      "found Fundamenta Informaticae https://www.iospress.nl/journal/fundamenta-informaticae/\n"
     ]
    },
    {
     "name": "stderr",
     "output_type": "stream",
     "text": [
      "\r",
      " 90%|█████████ | 216/239 [03:15<04:04, 10.64s/it]"
     ]
    },
    {
     "name": "stdout",
     "output_type": "stream",
     "text": [
      "found International Journal of Computer Mathematics https://www.tandfonline.com/toc/gcom20/current\n"
     ]
    },
    {
     "name": "stderr",
     "output_type": "stream",
     "text": [
      "\r",
      " 91%|█████████ | 217/239 [03:24<03:45, 10.26s/it]"
     ]
    },
    {
     "name": "stdout",
     "output_type": "stream",
     "text": [
      "found Intelligent Automation and Soft Computing http://wacong.org/autosoft/auto/\n"
     ]
    },
    {
     "name": "stderr",
     "output_type": "stream",
     "text": [
      "\r",
      " 91%|█████████ | 218/239 [03:31<03:12,  9.16s/it]"
     ]
    },
    {
     "name": "stdout",
     "output_type": "stream",
     "text": [
      "found Match http://match.pmf.kg.ac.rs/\n"
     ]
    },
    {
     "name": "stderr",
     "output_type": "stream",
     "text": [
      "\r",
      " 92%|█████████▏| 219/239 [03:40<03:07,  9.35s/it]"
     ]
    },
    {
     "name": "stdout",
     "output_type": "stream",
     "text": [
      "found International Journal of Fuzzy Logic and Intelligent Systems http://www.ijfis.org/main.html\n"
     ]
    },
    {
     "name": "stderr",
     "output_type": "stream",
     "text": [
      "\r",
      " 92%|█████████▏| 220/239 [03:48<02:45,  8.72s/it]"
     ]
    },
    {
     "name": "stdout",
     "output_type": "stream",
     "text": [
      "found Algorithms https://www.mdpi.com/journal/algorithms\n"
     ]
    },
    {
     "name": "stderr",
     "output_type": "stream",
     "text": [
      "\r",
      " 92%|█████████▏| 221/239 [04:00<02:57,  9.84s/it]"
     ]
    },
    {
     "name": "stdout",
     "output_type": "stream",
     "text": [
      "found Journal of Organizational Computing and Electronic Commerce https://www.tandfonline.com/toc/hoce20/current\n"
     ]
    },
    {
     "name": "stderr",
     "output_type": "stream",
     "text": [
      "\r",
      " 93%|█████████▎| 222/239 [04:06<02:25,  8.56s/it]"
     ]
    },
    {
     "name": "stdout",
     "output_type": "stream",
     "text": [
      "found Distributed Computing https://www.springer.com/journal/446\n"
     ]
    },
    {
     "name": "stderr",
     "output_type": "stream",
     "text": [
      "\r",
      " 93%|█████████▎| 223/239 [04:18<02:37,  9.83s/it]"
     ]
    },
    {
     "name": "stdout",
     "output_type": "stream",
     "text": [
      "found Journal of Computer and System Sciences https://www.journals.elsevier.com/journal-of-computer-and-system-sciences\n"
     ]
    },
    {
     "name": "stderr",
     "output_type": "stream",
     "text": [
      "\r",
      " 94%|█████████▎| 224/239 [04:30<02:36, 10.42s/it]"
     ]
    },
    {
     "name": "stdout",
     "output_type": "stream",
     "text": [
      "found Journal of Computer Science and Technology https://www.springer.com/journal/11390\n"
     ]
    },
    {
     "name": "stderr",
     "output_type": "stream",
     "text": [
      "\r",
      " 94%|█████████▍| 225/239 [04:42<02:32, 10.88s/it]"
     ]
    },
    {
     "name": "stdout",
     "output_type": "stream",
     "text": [
      "found Technology, Knowledge and Learning https://www.springer.com/education+%26+language/learning+%26+instruction/journal/10758\n"
     ]
    },
    {
     "name": "stderr",
     "output_type": "stream",
     "text": [
      "\r",
      " 95%|█████████▍| 226/239 [04:49<02:03,  9.54s/it]"
     ]
    },
    {
     "name": "stdout",
     "output_type": "stream",
     "text": [
      "found Journal of Scientific Computing https://www.springer.com/journal/10915\n"
     ]
    },
    {
     "name": "stderr",
     "output_type": "stream",
     "text": [
      "\r",
      " 95%|█████████▍| 227/239 [05:02<02:07, 10.62s/it]"
     ]
    },
    {
     "name": "stdout",
     "output_type": "stream",
     "text": [
      "found International Journal of Computers, Communications and Control http://univagora.ro/jour/index.php/ijccc/\n"
     ]
    },
    {
     "name": "stderr",
     "output_type": "stream",
     "text": [
      "\r",
      " 95%|█████████▌| 228/239 [05:13<02:00, 10.95s/it]"
     ]
    },
    {
     "name": "stdout",
     "output_type": "stream",
     "text": [
      "found Information and Inference https://academic.oup.com/imaiai\n"
     ]
    },
    {
     "name": "stderr",
     "output_type": "stream",
     "text": [
      "\r",
      " 96%|█████████▌| 230/239 [05:23<01:21,  9.04s/it]"
     ]
    },
    {
     "name": "stdout",
     "output_type": "stream",
     "text": [
      "found Journal of Computer Virology and Hacking Techniques https://www.springer.com/computer/journal/11416\n"
     ]
    },
    {
     "name": "stderr",
     "output_type": "stream",
     "text": [
      "\r",
      " 97%|█████████▋| 231/239 [05:33<01:16,  9.53s/it]"
     ]
    },
    {
     "name": "stdout",
     "output_type": "stream",
     "text": [
      "found Software-Intensive Cyber-Physical Systems https://www.springer.com/journal/450\n"
     ]
    },
    {
     "name": "stderr",
     "output_type": "stream",
     "text": [
      "\r",
      " 97%|█████████▋| 232/239 [05:42<01:05,  9.39s/it]"
     ]
    },
    {
     "name": "stdout",
     "output_type": "stream",
     "text": [
      "found Statistics and Computing https://www.springer.com/journal/11222\n"
     ]
    },
    {
     "name": "stderr",
     "output_type": "stream",
     "text": [
      "\r",
      " 97%|█████████▋| 233/239 [05:50<00:52,  8.76s/it]"
     ]
    },
    {
     "name": "stdout",
     "output_type": "stream",
     "text": [
      "found IEEE Transactions on Computers https://ieeexplore.ieee.org/xpl/RecentIssue.jsp?punumber=12\n"
     ]
    },
    {
     "name": "stderr",
     "output_type": "stream",
     "text": [
      "\r",
      " 98%|█████████▊| 234/239 [06:04<00:52, 10.40s/it]"
     ]
    },
    {
     "name": "stdout",
     "output_type": "stream",
     "text": [
      "found Computers and Mathematics with Applications https://www.journals.elsevier.com/computers-and-mathematics-with-applications\n"
     ]
    },
    {
     "name": "stderr",
     "output_type": "stream",
     "text": [
      "\r",
      " 98%|█████████▊| 235/239 [06:16<00:43, 10.93s/it]"
     ]
    },
    {
     "name": "stdout",
     "output_type": "stream",
     "text": [
      "found Operational Research https://www.springer.com/journal/12351/\n"
     ]
    },
    {
     "name": "stderr",
     "output_type": "stream",
     "text": [
      "\r",
      " 99%|█████████▊| 236/239 [06:31<00:36, 12.13s/it]"
     ]
    },
    {
     "name": "stdout",
     "output_type": "stream",
     "text": [
      "found International Journal of Artificial Intelligence in Education https://www.springer.com/journal/40593\n"
     ]
    },
    {
     "name": "stderr",
     "output_type": "stream",
     "text": [
      "\r",
      " 99%|█████████▉| 237/239 [06:38<00:20, 10.48s/it]"
     ]
    },
    {
     "name": "stdout",
     "output_type": "stream",
     "text": [
      "found IEEE Pervasive Computing https://ieeexplore.ieee.org/xpl/RecentIssue.jsp?punumber=7756\n"
     ]
    },
    {
     "name": "stderr",
     "output_type": "stream",
     "text": [
      "\r",
      "100%|█████████▉| 238/239 [06:50<00:11, 11.00s/it]"
     ]
    },
    {
     "name": "stdout",
     "output_type": "stream",
     "text": [
      "found IEEE Transactions on Knowledge and Data Engineering http://ieeexplore.ieee.org/xpl/RecentIssue.jsp?punumber=69\n"
     ]
    },
    {
     "name": "stderr",
     "output_type": "stream",
     "text": [
      "100%|██████████| 239/239 [07:01<00:00,  1.76s/it]\n"
     ]
    }
   ],
   "source": [
    "import tqdm\n",
    "import time\n",
    "import requests\n",
    "import random\n",
    "\n",
    "from html.parser import HTMLParser\n",
    "\n",
    "class MyHTMLParser(HTMLParser):\n",
    "    def __init__(self):\n",
    "        HTMLParser.__init__(self)                \n",
    "        self.prev_href = None\n",
    "        self.found = False \n",
    "    def handle_starttag(self, tag, attrs):\n",
    "        if tag == 'a':\n",
    "            for k in attrs:\n",
    "                if k[0] == 'href' and not self.found:\n",
    "                    self.prev_href = k[1]\n",
    "                    \n",
    "    def handle_data(self, data):\n",
    "        if data == 'Homepage':\n",
    "            self.found = True\n",
    "        \n",
    "            \n",
    "\n",
    "\n",
    "\n",
    "\n",
    "\n",
    "#urls = {}\n",
    "for k in tqdm.tqdm(good_journals):\n",
    "    k = k.strip()\n",
    "    if k in journals:\n",
    "        if k in urls:\n",
    "            continue\n",
    "        try:\n",
    "            url = 'https://www.scimagojr.com/journalsearch.php?q={}&tip=sid&clean=0'.format(journals[k])\n",
    "\n",
    "            result = requests.get(url)\n",
    "            parser = MyHTMLParser()\n",
    "            parser.feed(result.text)\n",
    "            if parser.found:\n",
    "                urls[k] = parser.prev_href\n",
    "                print ('found', k, urls[k])\n",
    "            else:\n",
    "                print ('not found', k)\n",
    "        except:\n",
    "            print ('exception', k)\n",
    "        time.sleep(random.uniform(5, 15))\n",
    "            "
   ]
  },
  {
   "cell_type": "code",
   "execution_count": 78,
   "metadata": {},
   "outputs": [],
   "source": [
    "u = \"\"\"https://onlinelibrary.wiley.com/journal/17568765\n",
    "https://www.cambridge.org/core/journals/theory-and-practice-of-logic-programming\n",
    "https://www.springer.com/journal/11721\n",
    "http://online.liebertpub.com/soro\n",
    "https://robotics.sciencemag.org/\n",
    "https://www.mdpi.com/journal/robotics\n",
    "https://www.journals.elsevier.com/physics-of-life-reviews\n",
    "https://www.journals.elsevier.com/pattern-recognition-letters\n",
    "https://www.sciencedirect.com/journal/pattern-recognition\n",
    "https://www.springer.com/journal/10044\n",
    "https://www.journals.elsevier.com/neurocomputing\n",
    "http://www.springer.com/computer+science/ai/journal/11063\n",
    "https://www.journals.elsevier.com/neural-networks\n",
    "http://www.springer.com/new+%26+forthcoming+titles+%28default%29/journal/521\n",
    "https://www.springer.com/journal/11067\n",
    "https://www.mitpressjournals.org/netn\n",
    "http://journals.cambridge.org/action/displayJournal?jid=NLE\n",
    "https://www.springer.com/journal/11045\n",
    "https://www.springer.com/journal/11023\n",
    "https://www.springer.com/journal/10994\n",
    "https://www.emerald.com/insight/publication/issn/0368-492X\n",
    "https://www.journals.elsevier.com/knowledge-based-systems\n",
    "http://journals.cambridge.org/action/displayJournal?jid=KER\n",
    "https://www.springer.com/journal/10115\n",
    "https://dl.acm.org/journal/jacm\n",
    "https://www.springer.com/journal/10951\n",
    "https://www.sciencedirect.com/journal/journal-of-parallel-and-distributed-computing\n",
    "https://www.journals.elsevier.com/journal-of-memory-and-language\n",
    "http://www.jmlr.org/\n",
    "https://link.springer.com/journal/10845\n",
    "https://www.springer.com/journal/10844\n",
    "https://www.springer.com/journal/10846\n",
    "https://www.iospress.nl/journal/journal-of-intelligent-fuzzy-systems/\n",
    "https://www.springer.com/journal/10732\n",
    "https://www.tandfonline.com/toc/teta20/current\n",
    "https://www.springer.com/journal/10817\n",
    "https://www.jair.org/index.php/jair\n",
    "http://jaiscr.eu/\n",
    "http://ijfs.usb.ac.ir/\n",
    "https://journals.sagepub.com/home/ijr\n",
    "https://www.springer.com/journal/13042\n",
    "https://onlinelibrary.wiley.com/journal/1098111x\n",
    "https://www.springer.com/journal/41315\n",
    "https://www.journals.elsevier.com/international-journal-of-information-management/\n",
    "https://www.springer.com/journal/40815\n",
    "https://www.journals.elsevier.com/international-journal-of-approximate-reasoning\n",
    "https://journals.sagepub.com/home/arx\n",
    "https://www.springer.com/journal/11370\n",
    "https://www.iospress.nl/journal/integrated-computer-aided-engineering/\n",
    "https://www.journals.elsevier.com/information-sciences\n",
    "https://ieeexplore.ieee.org/xpl/RecentIssue.jsp?punumber=6570654\n",
    "https://ieeexplore.ieee.org/xpl/RecentIssue.jsp?punumber=34\n",
    "https://ieeexplore.ieee.org/xpl/RecentIssue.jsp?punumber=5962385\n",
    "https://ieeexplore.ieee.org/xpl/RecentIssue.jsp?punumber=6221037\n",
    "http://ieeexplore.ieee.org/xpl/RecentIssue.jsp?punumber=91\n",
    "https://www.comsoc.org/publications/journals/ieee-tccn\n",
    "https://ieeexplore.ieee.org/xpl/RecentIssue.jsp?punumber=7274989\n",
    "https://ieeexplore.ieee.org/xpl/RecentIssue.jsp?punumber=9670\n",
    "https://ieeexplore.ieee.org/xpl/aboutJournal.jsp?punumber=10207\n",
    "https://www.journals.elsevier.com/ict-express/\n",
    "https://www.journals.elsevier.com/fuzzy-sets-and-systems\n",
    "https://www.springer.com/journal/10700\n",
    "https://www.frontiersin.org/journals/robotics-and-ai\n",
    "https://www.frontiersin.org/journals/neurorobotics\n",
    "https://www.nowpublishers.com/MAL\n",
    "https://www.journals.elsevier.com/expert-systems-with-applications\n",
    "https://onlinelibrary.wiley.com/journal/14680394\n",
    "https://www.springer.com/journal/12065\n",
    "https://www.journals.elsevier.com/engineering-applications-of-artificial-intelligence\n",
    "https://www.journals.elsevier.com/digital-signal-processing\n",
    "https://www.journals.elsevier.com/design-studies\n",
    "https://www.tandfonline.com/toc/ucbs20/current\n",
    "https://www.springer.com/journal/10601\n",
    "https://www.mitpressjournals.org/loi/coli\n",
    "https://www.journals.elsevier.com/cognitive-systems-research\n",
    "https://onlinelibrary.wiley.com/journal/15516709\n",
    "https://www.journals.elsevier.com/cognitive-psychology\n",
    "https://www.springer.com/journal/10514\n",
    "https://www.springer.com/journal/10462\n",
    "https://www.journals.elsevier.com/artificial-intelligence-in-medicine\n",
    "https://www.springer.com/journal/10506\n",
    "https://www.journals.elsevier.com/artificial-intelligence/\n",
    "http://www.springer.com/computer+science/ai/journal/10489\n",
    "https://www.hindawi.com/journals/acisc/\n",
    "https://aaai.org/Magazine/magazine.php\n",
    "https://www.journals.elsevier.com/advanced-engineering-informatics\n",
    "https://dl.acm.org/journal/tiis\n",
    "https://tist.acm.org/\n",
    "https://dl.acm.org/journal/tcps\n",
    "https://www.tandfonline.com/toc/hscc20/current\n",
    "http://www.elsevier.com/wps/find/journaldescription.cws_home/505651/description#description\n",
    "https://www.sciencedirect.com/journal/medical-image-analysis\n",
    "https://www.springer.com/journal/138\n",
    "https://www.journals.elsevier.com/journal-of-visual-communication-and-image-representation\n",
    "https://www.osapublishing.org/josaa/home.cfm\n",
    "https://www.springer.com/journal/10851\n",
    "https://www.mdpi.com/journal/jimaging\n",
    "https://www.springer.com/journal/10032\n",
    "https://www.springer.com/journal/13042\n",
    "https://onlinelibrary.wiley.com/journal/10981098\n",
    "https://link.springer.com/journal/11263\n",
    "https://www.springer.com/journal/11548\n",
    "https://www.journals.elsevier.com/image-and-vision-computing\n",
    "https://digital-library.theiet.org/content/journals/iet-cvi\n",
    "https://digital-library.theiet.org/content/journals/iet-bmt\n",
    "https://ieeexplore.ieee.org/xpl/RecentIssue.jsp?punumber=2945\n",
    "https://www.springer.com/journal/791\n",
    "https://www.journals.elsevier.com/computers-and-graphics\n",
    "https://www.journals.elsevier.com/computerized-medical-imaging-and-graphics\n",
    "https://www.sciencedirect.com/journal/computer-vision-and-image-understanding\n",
    "http://computeroptics.smr.ru/eng/index.html\n",
    "https://www.springer.com/journal/12559\n",
    "https://iopscience.iop.org/journal/0964-1726\n",
    "https://www.springer.com/journal/11760\n",
    "https://www.journals.elsevier.com/signal-processing\n",
    "https://www.springer.com/journal/11128\n",
    "https://www.springer.com/journal/11045\n",
    "https://www.journals.elsevier.com/mechanical-systems-and-signal-processing/\n",
    "https://www.journals.elsevier.com/journal-of-visual-communication-and-image-representation\n",
    "https://www.sciencedirect.com/journal/journal-of-the-franklin-institute\n",
    "https://iopscience.iop.org/journal/0266-5611\n",
    "https://onlinelibrary.wiley.com/journal/10991115\n",
    "https://www.sciencedirect.com/journal/information-fusion\n",
    "https://digital-library.theiet.org/content/journals/iet-spr\n",
    "https://ieeexplore.ieee.org/xpl/RecentIssue.jsp?punumber=6570655\n",
    "https://ieeexplore.ieee.org/xpl/RecentIssue.jsp?punumber=2945\n",
    "https://ieeexplore.ieee.org/xpl/RecentIssue.jsp?punumber=78\n",
    "https://ieeexplore.ieee.org/xpl/aboutJournal.jsp?punumber=6884276\n",
    "http://ieeexplore.ieee.org/xpl/RecentIssue.jsp?punumber=71\n",
    "https://ieeexplore.ieee.org/xpl/RecentIssue.jsp?punumber=6046\n",
    "https://ieeexplore.ieee.org/xpl/RecentIssue.jsp?punumber=6509490\n",
    "https://ieeexplore.ieee.org/xpl/RecentIssue.jsp?punumber=6745852\n",
    "https://www.ieee.org/membership-catalog/productdetail/showProductDetailPage.html?product=PER310-PRT\n",
    "https://ieeexplore.ieee.org/xpl/RecentIssue.jsp?punumber=97\n",
    "https://ieeexplore.ieee.org/xpl/RecentIssue.jsp?punumber=93\n",
    "https://ieeexplore.ieee.org/xpl/RecentIssue.jsp?punumber=4200690\n",
    "http://ieee-iotj.org/\n",
    "https://www.springer.com/computer/journal/11714?detailsPage=aboutThis\n",
    "https://www.nowpublishers.com/SIG\n",
    "https://jis-eurasipjournals.springeropen.com/\n",
    "https://jivp-eurasipjournals.springeropen.com\n",
    "https://link.springer.com/journal/13637/volumes-and-issues\n",
    "https://www.mdpi.com/journal/electronics\n",
    "https://www.springer.com/journal/34\n",
    "https://www.journals.elsevier.com/biomedical-signal-processing-and-control\n",
    "https://tsas.acm.org/\n",
    "https://www.journals.elsevier.com/speech-communication\n",
    "https://www.cambridge.org/core/journals/recall\n",
    "https://www.springer.com/journal/10590\n",
    "https://www.springer.com/journal/10579\n",
    "https://www.lltjournal.org//\n",
    "https://www.springer.com/journal/10772\n",
    "https://benjamins.com/catalog/ijcl\n",
    "http://www.degruyter.de/journals/cllt/detailEn.cfm\n",
    "https://www.tandfonline.com/toc/ncal20/current\n",
    "https://journals.equinoxpub.com/index.php/CALICO/index\n",
    "https://www.iospress.nl/journal/applied-ontology/\n",
    "https://onlinelibrary.wiley.com/journal/17590884\n",
    "https://www.journals.elsevier.com/wave-motion\n",
    "https://www.tandfonline.com/toc/tsma20/current\n",
    "https://www.siam.org/publications/journals/siam-review-sirev\n",
    "https://www.siam.org/publications/journals/siam-journal-on-numerical-analysis-sinum\n",
    "https://www.siam.org/publications/journals/siam-journal-on-mathematical-analysis-sima\n",
    "https://www.siam.org/publications/journals/siam-journal-on-scientific-computing-sisc\n",
    "https://www.springer.com/journal/13398\n",
    "https://www.springer.com/journal/211\n",
    "https://www.cambridge.org/core/journals/numerical-mathematics-theory-methods-and-applications\n",
    "https://www.ams.org/publications/journals/journalsframework/mcom\n",
    "http://www.elsevier.com/wps/find/journaldescription.cws_home/622902/description#description\n",
    "https://www.degruyter.com/view/journals/jnma/jnma-overview.xml\n",
    "https://www.journals.elsevier.com/journal-of-computational-design-and-engineering\n",
    "https://www.journals.elsevier.com/journal-of-computational-and-applied-mathematics\n",
    "https://www.springer.com/journal/12190\n",
    "https://journals.sagepub.com/home/act\n",
    "https://www.inderscience.com/jhome.php?jcode=ijcsm\n",
    "https://www.inderscience.com/jhome.php?jcode=ijcse\n",
    "https://www.worldscientific.com/worldscinet/ijcm\n",
    "https://www.atlantis-press.com/journals/ijcis\n",
    "https://academic.oup.com/imajna\n",
    "https://ieeexplore.ieee.org/xpl/RecentIssue.jsp?punumber=6745852\n",
    "https://www.springer.com/journal/10208\n",
    "https://www.cambridge.org/core/journals/forum-of-mathematics-sigma\n",
    "https://www.mitpressjournals.org/loi/evco\n",
    "https://link.springer.com/journal/13675\n",
    "https://www.esaim-m2an.org/\n",
    "https://www.esaim-cocv.org/\n",
    "https://epjdatascience.springeropen.com/\n",
    "https://www.springer.com/journal/365\n",
    "https://www.springer.com/journal/607\n",
    "https://www.springer.com/journal/180\n",
    "https://www.springer.com/journal/10589\n",
    "https://www.degruyter.com/view/journals/cmam/cmam-overview.xml\n",
    "https://www.journals.elsevier.com/computational-materials-science\n",
    "https://onlinelibrary.wiley.com/journal/14678640\n",
    "https://www.springer.com/journal/10588\n",
    "https://www.springer.com/journal/40314\n",
    "https://link.springer.com/journal/40304\n",
    "https://www.journals.elsevier.com/applied-numerical-mathematics/\"\"\".splitlines()"
   ]
  },
  {
   "cell_type": "code",
   "execution_count": 79,
   "metadata": {},
   "outputs": [],
   "source": [
    "urls = {}\n",
    "for k,u_ in zip(good_journals, u):\n",
    "    urls[k] = u_"
   ]
  },
  {
   "cell_type": "code",
   "execution_count": 80,
   "metadata": {},
   "outputs": [
    {
     "data": {
      "text/plain": [
       "{'Topics in Cognitive Science': 'https://onlinelibrary.wiley.com/journal/17568765',\n",
       " 'Theory and Practice of Logic Programming': 'https://www.cambridge.org/core/journals/theory-and-practice-of-logic-programming',\n",
       " 'Swarm Intelligence': 'https://www.springer.com/journal/11721',\n",
       " 'Soft Robotics': 'http://online.liebertpub.com/soro',\n",
       " 'Science Robotics': 'https://robotics.sciencemag.org/',\n",
       " 'Robotics': 'https://www.mdpi.com/journal/robotics',\n",
       " 'Physics of Life Reviews': 'https://www.journals.elsevier.com/physics-of-life-reviews',\n",
       " 'Pattern Recognition Letters': 'https://www.journals.elsevier.com/pattern-recognition-letters',\n",
       " 'Pattern Recognition': 'https://www.sciencedirect.com/journal/pattern-recognition',\n",
       " 'Pattern Analysis and Applications': 'https://www.springer.com/journal/10044',\n",
       " 'Neurocomputing': 'https://www.journals.elsevier.com/neurocomputing',\n",
       " 'Neural Processing Letters': 'http://www.springer.com/computer+science/ai/journal/11063',\n",
       " 'Neural Networks': 'https://www.journals.elsevier.com/neural-networks',\n",
       " 'Neural Computing and Applications': 'http://www.springer.com/new+%26+forthcoming+titles+%28default%29/journal/521',\n",
       " 'Networks and Spatial Economics': 'https://www.springer.com/journal/11067',\n",
       " 'Network Neuroscience': 'https://www.mitpressjournals.org/netn',\n",
       " 'Natural Language Engineering': 'http://journals.cambridge.org/action/displayJournal?jid=NLE',\n",
       " 'Multidimensional Systems and Signal Processing': 'https://www.springer.com/journal/11045',\n",
       " 'Minds and Machines': 'https://www.springer.com/journal/11023',\n",
       " 'Machine Learning': 'https://www.springer.com/journal/10994',\n",
       " 'Kybernetes': 'https://www.emerald.com/insight/publication/issn/0368-492X',\n",
       " 'Knowledge-Based Systems': 'https://www.journals.elsevier.com/knowledge-based-systems',\n",
       " 'Knowledge Engineering Review': 'http://journals.cambridge.org/action/displayJournal?jid=KER',\n",
       " 'Knowledge and Information Systems': 'https://www.springer.com/journal/10115',\n",
       " 'Journal of the ACM': 'https://dl.acm.org/journal/jacm',\n",
       " 'Journal of Scheduling': 'https://www.springer.com/journal/10951',\n",
       " 'Journal of Parallel and Distributed Computing': 'https://www.sciencedirect.com/journal/journal-of-parallel-and-distributed-computing',\n",
       " 'Journal of Memory and Language': 'https://www.journals.elsevier.com/journal-of-memory-and-language',\n",
       " 'Journal of Machine Learning Research': 'http://www.jmlr.org/',\n",
       " 'Journal of Intelligent Manufacturing': 'https://link.springer.com/journal/10845',\n",
       " 'Journal of Intelligent Information Systems': 'https://www.springer.com/journal/10844',\n",
       " 'Journal of Intelligent and Robotic Systems: Theory and Applications': 'https://www.springer.com/journal/10846',\n",
       " 'Journal of Intelligent and Fuzzy Systems': 'https://www.iospress.nl/journal/journal-of-intelligent-fuzzy-systems/',\n",
       " 'Journal of Heuristics': 'https://www.springer.com/journal/10732',\n",
       " 'Journal of Experimental and Theoretical Artificial Intelligence': 'https://www.tandfonline.com/toc/teta20/current',\n",
       " 'Journal of Automated Reasoning': 'https://www.springer.com/journal/10817',\n",
       " 'Journal of Artificial Intelligence Research': 'https://www.jair.org/index.php/jair',\n",
       " 'Journal of Artificial Intelligence and Soft Computing Research': 'http://jaiscr.eu/',\n",
       " 'Iranian Journal of Fuzzy Systems': 'http://ijfs.usb.ac.ir/',\n",
       " 'International Journal of Robotics Research': 'https://journals.sagepub.com/home/ijr',\n",
       " 'International Journal of Machine Learning and Cybernetics': 'https://www.springer.com/journal/13042',\n",
       " 'International Journal of Intelligent Systems': 'https://onlinelibrary.wiley.com/journal/1098111x',\n",
       " 'International Journal of Intelligent Robotics and Applications': 'https://www.springer.com/journal/41315',\n",
       " 'International Journal of Information Management': 'https://www.journals.elsevier.com/international-journal-of-information-management/',\n",
       " 'International Journal of Fuzzy Systems': 'https://www.springer.com/journal/40815',\n",
       " 'International Journal of Approximate Reasoning': 'https://www.journals.elsevier.com/international-journal-of-approximate-reasoning',\n",
       " 'International Journal of Advanced Robotic Systems': 'https://journals.sagepub.com/home/arx',\n",
       " 'Intelligent Service Robotics': 'https://www.springer.com/journal/11370',\n",
       " 'Integrated Computer-Aided Engineering': 'https://www.iospress.nl/journal/integrated-computer-aided-engineering/',\n",
       " 'Information Sciences': 'https://www.journals.elsevier.com/information-sciences',\n",
       " 'IEEE/CAA Journal of Automatica Sinica': 'https://ieeexplore.ieee.org/xpl/RecentIssue.jsp?punumber=6570654',\n",
       " 'IEEE Transactions on Pattern Analysis and Machine Intelligence': 'https://ieeexplore.ieee.org/xpl/RecentIssue.jsp?punumber=34',\n",
       " 'IEEE Transactions on Neural Networks and Learning Systems': 'https://ieeexplore.ieee.org/xpl/RecentIssue.jsp?punumber=5962385',\n",
       " 'IEEE Transactions on Human-Machine Systems': 'https://ieeexplore.ieee.org/xpl/RecentIssue.jsp?punumber=6221037',\n",
       " 'IEEE Transactions on Fuzzy Systems': 'http://ieeexplore.ieee.org/xpl/RecentIssue.jsp?punumber=91',\n",
       " 'IEEE Transactions on Cognitive Communications and Networking': 'https://www.comsoc.org/publications/journals/ieee-tccn',\n",
       " 'IEEE Transactions on Cognitive and Developmental Systems': 'https://ieeexplore.ieee.org/xpl/RecentIssue.jsp?punumber=7274989',\n",
       " 'IEEE Intelligent Systems': 'https://ieeexplore.ieee.org/xpl/RecentIssue.jsp?punumber=9670',\n",
       " 'IEEE Computational Intelligence Magazine': 'https://ieeexplore.ieee.org/xpl/aboutJournal.jsp?punumber=10207',\n",
       " 'ICT Express': 'https://www.journals.elsevier.com/ict-express/',\n",
       " 'Fuzzy Sets and Systems': 'https://www.journals.elsevier.com/fuzzy-sets-and-systems',\n",
       " 'Fuzzy Optimization and Decision Making': 'https://www.springer.com/journal/10700',\n",
       " 'Frontiers Robotics AI': 'https://www.frontiersin.org/journals/robotics-and-ai',\n",
       " 'Frontiers in Neurorobotics': 'https://www.frontiersin.org/journals/neurorobotics',\n",
       " 'Foundations and Trends in Machine Learning': 'https://www.nowpublishers.com/MAL',\n",
       " 'Expert Systems with Applications': 'https://www.journals.elsevier.com/expert-systems-with-applications',\n",
       " 'Expert Systems': 'https://onlinelibrary.wiley.com/journal/14680394',\n",
       " 'Evolutionary Intelligence': 'https://www.springer.com/journal/12065',\n",
       " 'Engineering Applications of Artificial Intelligence': 'https://www.journals.elsevier.com/engineering-applications-of-artificial-intelligence',\n",
       " 'Digital Signal Processing: A Review Journal': 'https://www.journals.elsevier.com/digital-signal-processing',\n",
       " 'Design Studies': 'https://www.journals.elsevier.com/design-studies',\n",
       " 'Cybernetics and Systems': 'https://www.tandfonline.com/toc/ucbs20/current',\n",
       " 'Constraints': 'https://www.springer.com/journal/10601',\n",
       " 'Computational Linguistics': 'https://www.mitpressjournals.org/loi/coli',\n",
       " 'Cognitive Systems Research': 'https://www.journals.elsevier.com/cognitive-systems-research',\n",
       " 'Cognitive Science': 'https://onlinelibrary.wiley.com/journal/15516709',\n",
       " 'Cognitive Psychology': 'https://www.journals.elsevier.com/cognitive-psychology',\n",
       " 'Autonomous Robots': 'https://www.springer.com/journal/10514',\n",
       " 'Artificial Intelligence Review': 'https://www.springer.com/journal/10462',\n",
       " 'Artificial Intelligence in Medicine': 'https://www.journals.elsevier.com/artificial-intelligence-in-medicine',\n",
       " 'Artificial Intelligence and Law': 'https://www.springer.com/journal/10506',\n",
       " 'Artificial Intelligence': 'https://www.journals.elsevier.com/artificial-intelligence/',\n",
       " 'Applied Intelligence': 'http://www.springer.com/computer+science/ai/journal/10489',\n",
       " 'Applied Computational Intelligence and Soft Computing': 'https://www.hindawi.com/journals/acisc/',\n",
       " 'AI Magazine': 'https://aaai.org/Magazine/magazine.php',\n",
       " 'Advanced Engineering Informatics': 'https://www.journals.elsevier.com/advanced-engineering-informatics',\n",
       " 'ACM Transactions on Interactive Intelligent Systems': 'https://dl.acm.org/journal/tiis',\n",
       " 'ACM Transactions on Intelligent Systems and Technology': 'https://tist.acm.org/',\n",
       " 'ACM Transactions on Cyber-Physical Systems': 'https://dl.acm.org/journal/tcps',\n",
       " 'Spatial Cognition and Computation': 'https://www.tandfonline.com/toc/hscc20/current',\n",
       " 'Signal Processing: Image Communication': 'http://www.elsevier.com/wps/find/journaldescription.cws_home/505651/description#description',\n",
       " 'Medical Image Analysis': 'https://www.sciencedirect.com/journal/medical-image-analysis',\n",
       " 'Machine Vision and Applications': 'https://www.springer.com/journal/138',\n",
       " 'Journal of Visual Communication and Image Representation': 'https://www.journals.elsevier.com/journal-of-visual-communication-and-image-representation',\n",
       " 'Journal of the Optical Society of America A: Optics and Image Science, and Vision': 'https://www.osapublishing.org/josaa/home.cfm',\n",
       " 'Journal of Mathematical Imaging and Vision': 'https://www.springer.com/journal/10851',\n",
       " 'Journal of Imaging': 'https://www.mdpi.com/journal/jimaging',\n",
       " 'International Journal on Document Analysis and Recognition': 'https://www.springer.com/journal/10032',\n",
       " 'International Journal of Imaging Systems and Technology': 'https://onlinelibrary.wiley.com/journal/10981098',\n",
       " 'International Journal of Computer Vision': 'https://link.springer.com/journal/11263',\n",
       " 'International journal of computer assisted radiology and surgery': 'https://www.springer.com/journal/11548',\n",
       " 'Image and Vision Computing': 'https://www.journals.elsevier.com/image-and-vision-computing',\n",
       " 'IET Computer Vision': 'https://digital-library.theiet.org/content/journals/iet-cvi',\n",
       " 'IET Biometrics': 'https://digital-library.theiet.org/content/journals/iet-bmt',\n",
       " 'IEEE Transactions on Visualization and Computer Graphics': 'https://ieeexplore.ieee.org/xpl/RecentIssue.jsp?punumber=2945',\n",
       " 'Computing and Visualization in Science': 'https://www.springer.com/journal/791',\n",
       " 'Computers and Graphics': 'https://www.journals.elsevier.com/computers-and-graphics',\n",
       " 'Computerized Medical Imaging and Graphics': 'https://www.journals.elsevier.com/computerized-medical-imaging-and-graphics',\n",
       " 'Computer Vision and Image Understanding': 'https://www.sciencedirect.com/journal/computer-vision-and-image-understanding',\n",
       " 'Computer Optics': 'http://computeroptics.smr.ru/eng/index.html',\n",
       " 'Cognitive Computation': 'https://www.springer.com/journal/12559',\n",
       " 'Smart Materials and Structures': 'https://iopscience.iop.org/journal/0964-1726',\n",
       " 'Signal, Image and Video Processing': 'https://www.springer.com/journal/11760',\n",
       " 'Signal Processing': 'https://www.journals.elsevier.com/signal-processing',\n",
       " 'Quantum Information Processing': 'https://www.springer.com/journal/11128',\n",
       " 'Mechanical Systems and Signal Processing': 'https://www.journals.elsevier.com/mechanical-systems-and-signal-processing/',\n",
       " 'Journal of the Franklin Institute': 'https://www.sciencedirect.com/journal/journal-of-the-franklin-institute',\n",
       " 'Inverse Problems': 'https://iopscience.iop.org/journal/0266-5611',\n",
       " 'International Journal of Adaptive Control and Signal Processing': 'https://onlinelibrary.wiley.com/journal/10991115',\n",
       " 'Information Fusion': 'https://www.sciencedirect.com/journal/information-fusion',\n",
       " 'IET Signal Processing': 'https://digital-library.theiet.org/content/journals/iet-spr',\n",
       " 'IEEE/ACM Transactions on Audio Speech and Language Processing': 'https://ieeexplore.ieee.org/xpl/RecentIssue.jsp?punumber=6570655',\n",
       " 'IEEE Transactions on Signal Processing': 'https://ieeexplore.ieee.org/xpl/RecentIssue.jsp?punumber=78',\n",
       " 'IEEE Transactions on Signal and Information Processing over Networks': 'https://ieeexplore.ieee.org/xpl/aboutJournal.jsp?punumber=6884276',\n",
       " 'IEEE Transactions on Parallel and Distributed Systems': 'http://ieeexplore.ieee.org/xpl/RecentIssue.jsp?punumber=71',\n",
       " 'IEEE Transactions on Multimedia': 'https://ieeexplore.ieee.org/xpl/RecentIssue.jsp?punumber=6046',\n",
       " 'IEEE Transactions on Control of Network Systems': 'https://ieeexplore.ieee.org/xpl/RecentIssue.jsp?punumber=6509490',\n",
       " 'IEEE Transactions on Computational Imaging': 'https://ieeexplore.ieee.org/xpl/RecentIssue.jsp?punumber=6745852',\n",
       " 'IEEE Signal Processing Magazine': 'https://www.ieee.org/membership-catalog/productdetail/showProductDetailPage.html?product=PER310-PRT',\n",
       " 'IEEE Signal Processing Letters': 'https://ieeexplore.ieee.org/xpl/RecentIssue.jsp?punumber=97',\n",
       " 'IEEE Multimedia': 'https://ieeexplore.ieee.org/xpl/RecentIssue.jsp?punumber=93',\n",
       " 'IEEE Journal on Selected Topics in Signal Processing': 'https://ieeexplore.ieee.org/xpl/RecentIssue.jsp?punumber=4200690',\n",
       " 'IEEE Internet of Things Journal': 'http://ieee-iotj.org/',\n",
       " 'Frontiers of Information Technology and Electronic Engineering': 'https://www.springer.com/computer/journal/11714?detailsPage=aboutThis',\n",
       " 'Foundations and Trends in Signal Processing': 'https://www.nowpublishers.com/SIG',\n",
       " 'Eurasip Journal on Information Security': 'https://jis-eurasipjournals.springeropen.com/',\n",
       " 'Eurasip Journal on Image and Video Processing': 'https://jivp-eurasipjournals.springeropen.com',\n",
       " 'Eurasip Journal on Bioinformatics and Systems Biology': 'https://link.springer.com/journal/13637/volumes-and-issues',\n",
       " 'Electronics (Switzerland)': 'https://www.mdpi.com/journal/electronics',\n",
       " 'Circuits, Systems, and Signal Processing': 'https://www.springer.com/journal/34',\n",
       " 'Biomedical Signal Processing and Control': 'https://www.journals.elsevier.com/biomedical-signal-processing-and-control',\n",
       " 'ACM Transactions on Spatial Algorithms and Systems': 'https://tsas.acm.org/',\n",
       " 'Speech Communication': 'https://www.journals.elsevier.com/speech-communication',\n",
       " 'ReCALL': 'https://www.cambridge.org/core/journals/recall',\n",
       " 'Machine Translation': 'https://www.springer.com/journal/10590',\n",
       " 'Language Resources and Evaluation': 'https://www.springer.com/journal/10579',\n",
       " 'Language Learning and Technology': 'https://www.lltjournal.org//',\n",
       " 'International Journal of Speech Technology': 'https://www.springer.com/journal/10772',\n",
       " 'International Journal of Corpus Linguistics': 'https://benjamins.com/catalog/ijcl',\n",
       " 'Corpus Linguistics and Linguistic Theory': 'http://www.degruyter.de/journals/cllt/detailEn.cfm',\n",
       " 'Computer Assisted Language Learning': 'https://www.tandfonline.com/toc/ncal20/current',\n",
       " 'CALICO Journal': 'https://journals.equinoxpub.com/index.php/CALICO/index',\n",
       " 'Applied Ontology': 'https://www.iospress.nl/journal/applied-ontology/',\n",
       " 'Wiley Interdisciplinary Reviews: Computational Molecular Science': 'https://onlinelibrary.wiley.com/journal/17590884',\n",
       " 'Wave Motion': 'https://www.journals.elsevier.com/wave-motion',\n",
       " 'Smart Science': 'https://www.tandfonline.com/toc/tsma20/current',\n",
       " 'SIAM Review': 'https://www.siam.org/publications/journals/siam-review-sirev',\n",
       " 'SIAM Journal on Numerical Analysis': 'https://www.siam.org/publications/journals/siam-journal-on-numerical-analysis-sinum',\n",
       " 'SIAM Journal on Mathematical Analysis': 'https://www.siam.org/publications/journals/siam-journal-on-mathematical-analysis-sima',\n",
       " 'SIAM Journal of Scientific Computing': 'https://www.siam.org/publications/journals/siam-journal-on-scientific-computing-sisc',\n",
       " 'Revista de la Real Academia de Ciencias Exactas, Fisicas y Naturales - Serie A: Matematicas': 'https://www.springer.com/journal/13398',\n",
       " 'Numerische Mathematik': 'https://www.springer.com/journal/211',\n",
       " 'Numerical Mathematics': 'https://www.cambridge.org/core/journals/numerical-mathematics-theory-methods-and-applications',\n",
       " 'Mathematics of Computation': 'https://www.ams.org/publications/journals/journalsframework/mcom',\n",
       " 'Journal of Symbolic Computation': 'http://www.elsevier.com/wps/find/journaldescription.cws_home/622902/description#description',\n",
       " 'Journal of Numerical Mathematics': 'https://www.degruyter.com/view/journals/jnma/jnma-overview.xml',\n",
       " 'Journal of Computational Design and Engineering': 'https://www.journals.elsevier.com/journal-of-computational-design-and-engineering',\n",
       " 'Journal of Computational and Applied Mathematics': 'https://www.journals.elsevier.com/journal-of-computational-and-applied-mathematics',\n",
       " 'Journal of Applied Mathematics and Computing': 'https://www.springer.com/journal/12190',\n",
       " 'Journal of Algorithms and Computational Technology': 'https://journals.sagepub.com/home/act',\n",
       " 'International Journal of Computing Science and Mathematics': 'https://www.inderscience.com/jhome.php?jcode=ijcsm',\n",
       " 'International Journal of Computational Science and Engineering': 'https://www.inderscience.com/jhome.php?jcode=ijcse',\n",
       " 'International Journal of Computational Methods': 'https://www.worldscientific.com/worldscinet/ijcm',\n",
       " 'International Journal of Computational Intelligence Systems': 'https://www.atlantis-press.com/journals/ijcis',\n",
       " 'IMA Journal of Numerical Analysis': 'https://academic.oup.com/imajna',\n",
       " 'Foundations of Computational Mathematics': 'https://www.springer.com/journal/10208',\n",
       " 'Forum of Mathematics, Sigma': 'https://www.cambridge.org/core/journals/forum-of-mathematics-sigma',\n",
       " 'Evolutionary Computation': 'https://www.mitpressjournals.org/loi/evco',\n",
       " 'EURO Journal on Computational Optimization': 'https://link.springer.com/journal/13675',\n",
       " 'ESAIM: Mathematical Modelling and Numerical Analysis': 'https://www.esaim-m2an.org/',\n",
       " 'ESAIM - Control, Optimisation and Calculus of Variations': 'https://www.esaim-cocv.org/',\n",
       " 'EPJ Data Science': 'https://epjdatascience.springeropen.com/',\n",
       " 'Constructive Approximation': 'https://www.springer.com/journal/365',\n",
       " 'Computing (Vienna/New York)': 'https://www.springer.com/journal/607',\n",
       " 'Computational Statistics': 'https://www.springer.com/journal/180',\n",
       " 'Computational Optimization and Applications': 'https://www.springer.com/journal/10589',\n",
       " 'Computational Methods in Applied Mathematics': 'https://www.degruyter.com/view/journals/cmam/cmam-overview.xml',\n",
       " 'Computational Materials Science': 'https://www.journals.elsevier.com/computational-materials-science',\n",
       " 'Computational Intelligence': 'https://onlinelibrary.wiley.com/journal/14678640',\n",
       " 'Computational and Mathematical Organization Theory': 'https://www.springer.com/journal/10588',\n",
       " 'Computational and Applied Mathematics': 'https://www.springer.com/journal/40314',\n",
       " 'Communications in Mathematics and Statistics': 'https://link.springer.com/journal/40304',\n",
       " 'Applied Numerical Mathematics': 'https://www.journals.elsevier.com/applied-numerical-mathematics/'}"
      ]
     },
     "execution_count": 80,
     "metadata": {},
     "output_type": "execute_result"
    }
   ],
   "source": [
    "urls"
   ]
  },
  {
   "cell_type": "code",
   "execution_count": 82,
   "metadata": {},
   "outputs": [],
   "source": [
    "with open('urls.json', 'w') as out:\n",
    "    import json\n",
    "    out.write(json.dumps(urls))"
   ]
  },
  {
   "cell_type": "code",
   "execution_count": 73,
   "metadata": {
    "scrolled": false
   },
   "outputs": [
    {
     "ename": "JSONDecodeError",
     "evalue": "Expecting value: line 1 column 1 (char 0)",
     "output_type": "error",
     "traceback": [
      "\u001b[0;31m---------------------------------------------------------------------------\u001b[0m",
      "\u001b[0;31mJSONDecodeError\u001b[0m                           Traceback (most recent call last)",
      "\u001b[0;32m<ipython-input-73-d805709f698c>\u001b[0m in \u001b[0;36m<module>\u001b[0;34m\u001b[0m\n\u001b[1;32m      1\u001b[0m \u001b[0;32mwith\u001b[0m \u001b[0mopen\u001b[0m\u001b[0;34m(\u001b[0m\u001b[0;34m'urls.json'\u001b[0m\u001b[0;34m,\u001b[0m \u001b[0;34m'r'\u001b[0m\u001b[0;34m)\u001b[0m \u001b[0;32mas\u001b[0m \u001b[0mout\u001b[0m\u001b[0;34m:\u001b[0m\u001b[0;34m\u001b[0m\u001b[0;34m\u001b[0m\u001b[0m\n\u001b[1;32m      2\u001b[0m     \u001b[0;32mimport\u001b[0m \u001b[0mjson\u001b[0m\u001b[0;34m\u001b[0m\u001b[0;34m\u001b[0m\u001b[0m\n\u001b[0;32m----> 3\u001b[0;31m     \u001b[0murls\u001b[0m \u001b[0;34m=\u001b[0m \u001b[0mjson\u001b[0m\u001b[0;34m.\u001b[0m\u001b[0mloads\u001b[0m\u001b[0;34m(\u001b[0m\u001b[0mout\u001b[0m\u001b[0;34m.\u001b[0m\u001b[0mread\u001b[0m\u001b[0;34m(\u001b[0m\u001b[0;34m)\u001b[0m\u001b[0;34m)\u001b[0m\u001b[0;34m\u001b[0m\u001b[0;34m\u001b[0m\u001b[0m\n\u001b[0m",
      "\u001b[0;32m/usr/lib/python3.8/json/__init__.py\u001b[0m in \u001b[0;36mloads\u001b[0;34m(s, cls, object_hook, parse_float, parse_int, parse_constant, object_pairs_hook, **kw)\u001b[0m\n\u001b[1;32m    355\u001b[0m             \u001b[0mparse_int\u001b[0m \u001b[0;32mis\u001b[0m \u001b[0;32mNone\u001b[0m \u001b[0;32mand\u001b[0m \u001b[0mparse_float\u001b[0m \u001b[0;32mis\u001b[0m \u001b[0;32mNone\u001b[0m \u001b[0;32mand\u001b[0m\u001b[0;34m\u001b[0m\u001b[0;34m\u001b[0m\u001b[0m\n\u001b[1;32m    356\u001b[0m             parse_constant is None and object_pairs_hook is None and not kw):\n\u001b[0;32m--> 357\u001b[0;31m         \u001b[0;32mreturn\u001b[0m \u001b[0m_default_decoder\u001b[0m\u001b[0;34m.\u001b[0m\u001b[0mdecode\u001b[0m\u001b[0;34m(\u001b[0m\u001b[0ms\u001b[0m\u001b[0;34m)\u001b[0m\u001b[0;34m\u001b[0m\u001b[0;34m\u001b[0m\u001b[0m\n\u001b[0m\u001b[1;32m    358\u001b[0m     \u001b[0;32mif\u001b[0m \u001b[0mcls\u001b[0m \u001b[0;32mis\u001b[0m \u001b[0;32mNone\u001b[0m\u001b[0;34m:\u001b[0m\u001b[0;34m\u001b[0m\u001b[0;34m\u001b[0m\u001b[0m\n\u001b[1;32m    359\u001b[0m         \u001b[0mcls\u001b[0m \u001b[0;34m=\u001b[0m \u001b[0mJSONDecoder\u001b[0m\u001b[0;34m\u001b[0m\u001b[0;34m\u001b[0m\u001b[0m\n",
      "\u001b[0;32m/usr/lib/python3.8/json/decoder.py\u001b[0m in \u001b[0;36mdecode\u001b[0;34m(self, s, _w)\u001b[0m\n\u001b[1;32m    335\u001b[0m \u001b[0;34m\u001b[0m\u001b[0m\n\u001b[1;32m    336\u001b[0m         \"\"\"\n\u001b[0;32m--> 337\u001b[0;31m         \u001b[0mobj\u001b[0m\u001b[0;34m,\u001b[0m \u001b[0mend\u001b[0m \u001b[0;34m=\u001b[0m \u001b[0mself\u001b[0m\u001b[0;34m.\u001b[0m\u001b[0mraw_decode\u001b[0m\u001b[0;34m(\u001b[0m\u001b[0ms\u001b[0m\u001b[0;34m,\u001b[0m \u001b[0midx\u001b[0m\u001b[0;34m=\u001b[0m\u001b[0m_w\u001b[0m\u001b[0;34m(\u001b[0m\u001b[0ms\u001b[0m\u001b[0;34m,\u001b[0m \u001b[0;36m0\u001b[0m\u001b[0;34m)\u001b[0m\u001b[0;34m.\u001b[0m\u001b[0mend\u001b[0m\u001b[0;34m(\u001b[0m\u001b[0;34m)\u001b[0m\u001b[0;34m)\u001b[0m\u001b[0;34m\u001b[0m\u001b[0;34m\u001b[0m\u001b[0m\n\u001b[0m\u001b[1;32m    338\u001b[0m         \u001b[0mend\u001b[0m \u001b[0;34m=\u001b[0m \u001b[0m_w\u001b[0m\u001b[0;34m(\u001b[0m\u001b[0ms\u001b[0m\u001b[0;34m,\u001b[0m \u001b[0mend\u001b[0m\u001b[0;34m)\u001b[0m\u001b[0;34m.\u001b[0m\u001b[0mend\u001b[0m\u001b[0;34m(\u001b[0m\u001b[0;34m)\u001b[0m\u001b[0;34m\u001b[0m\u001b[0;34m\u001b[0m\u001b[0m\n\u001b[1;32m    339\u001b[0m         \u001b[0;32mif\u001b[0m \u001b[0mend\u001b[0m \u001b[0;34m!=\u001b[0m \u001b[0mlen\u001b[0m\u001b[0;34m(\u001b[0m\u001b[0ms\u001b[0m\u001b[0;34m)\u001b[0m\u001b[0;34m:\u001b[0m\u001b[0;34m\u001b[0m\u001b[0;34m\u001b[0m\u001b[0m\n",
      "\u001b[0;32m/usr/lib/python3.8/json/decoder.py\u001b[0m in \u001b[0;36mraw_decode\u001b[0;34m(self, s, idx)\u001b[0m\n\u001b[1;32m    353\u001b[0m             \u001b[0mobj\u001b[0m\u001b[0;34m,\u001b[0m \u001b[0mend\u001b[0m \u001b[0;34m=\u001b[0m \u001b[0mself\u001b[0m\u001b[0;34m.\u001b[0m\u001b[0mscan_once\u001b[0m\u001b[0;34m(\u001b[0m\u001b[0ms\u001b[0m\u001b[0;34m,\u001b[0m \u001b[0midx\u001b[0m\u001b[0;34m)\u001b[0m\u001b[0;34m\u001b[0m\u001b[0;34m\u001b[0m\u001b[0m\n\u001b[1;32m    354\u001b[0m         \u001b[0;32mexcept\u001b[0m \u001b[0mStopIteration\u001b[0m \u001b[0;32mas\u001b[0m \u001b[0merr\u001b[0m\u001b[0;34m:\u001b[0m\u001b[0;34m\u001b[0m\u001b[0;34m\u001b[0m\u001b[0m\n\u001b[0;32m--> 355\u001b[0;31m             \u001b[0;32mraise\u001b[0m \u001b[0mJSONDecodeError\u001b[0m\u001b[0;34m(\u001b[0m\u001b[0;34m\"Expecting value\"\u001b[0m\u001b[0;34m,\u001b[0m \u001b[0ms\u001b[0m\u001b[0;34m,\u001b[0m \u001b[0merr\u001b[0m\u001b[0;34m.\u001b[0m\u001b[0mvalue\u001b[0m\u001b[0;34m)\u001b[0m \u001b[0;32mfrom\u001b[0m \u001b[0;32mNone\u001b[0m\u001b[0;34m\u001b[0m\u001b[0;34m\u001b[0m\u001b[0m\n\u001b[0m\u001b[1;32m    356\u001b[0m         \u001b[0;32mreturn\u001b[0m \u001b[0mobj\u001b[0m\u001b[0;34m,\u001b[0m \u001b[0mend\u001b[0m\u001b[0;34m\u001b[0m\u001b[0;34m\u001b[0m\u001b[0m\n",
      "\u001b[0;31mJSONDecodeError\u001b[0m: Expecting value: line 1 column 1 (char 0)"
     ]
    }
   ],
   "source": [
    "with open('urls.json', 'r') as out:\n",
    "    import json\n",
    "    urls = json.loads(out.read())"
   ]
  },
  {
   "cell_type": "code",
   "execution_count": 89,
   "metadata": {},
   "outputs": [
    {
     "name": "stdout",
     "output_type": "stream",
     "text": [
      "https://onlinelibrary.wiley.com/journal/17568765\n",
      "https://www.cambridge.org/core/journals/theory-and-practice-of-logic-programming\n",
      "https://www.springer.com/journal/11721\n",
      "http://online.liebertpub.com/soro\n",
      "https://robotics.sciencemag.org/\n",
      "https://www.mdpi.com/journal/robotics\n",
      "https://www.journals.elsevier.com/physics-of-life-reviews\n",
      "https://www.journals.elsevier.com/pattern-recognition-letters\n",
      "https://www.sciencedirect.com/journal/pattern-recognition\n",
      "https://www.springer.com/journal/10044\n",
      "https://www.journals.elsevier.com/neurocomputing\n",
      "http://www.springer.com/computer+science/ai/journal/11063\n",
      "https://www.journals.elsevier.com/neural-networks\n",
      "http://www.springer.com/new+%26+forthcoming+titles+%28default%29/journal/521\n",
      "https://www.springer.com/journal/11067\n",
      "https://www.mitpressjournals.org/netn\n",
      "http://journals.cambridge.org/action/displayJournal?jid=NLE\n",
      "https://www.springer.com/journal/11045\n",
      "https://www.springer.com/journal/11023\n",
      "https://www.springer.com/journal/10994\n",
      "https://www.emerald.com/insight/publication/issn/0368-492X\n",
      "https://www.journals.elsevier.com/knowledge-based-systems\n",
      "http://journals.cambridge.org/action/displayJournal?jid=KER\n",
      "https://www.springer.com/journal/10115\n",
      "https://dl.acm.org/journal/jacm\n",
      "https://www.springer.com/journal/10951\n",
      "https://www.sciencedirect.com/journal/journal-of-parallel-and-distributed-computing\n",
      "https://www.journals.elsevier.com/journal-of-memory-and-language\n",
      "http://www.jmlr.org/\n",
      "https://link.springer.com/journal/10845\n",
      "https://www.springer.com/journal/10844\n",
      "https://www.springer.com/journal/10846\n",
      "https://www.iospress.nl/journal/journal-of-intelligent-fuzzy-systems/\n",
      "https://www.springer.com/journal/10732\n",
      "https://www.tandfonline.com/toc/teta20/current\n",
      "https://www.springer.com/journal/10817\n",
      "https://www.jair.org/index.php/jair\n",
      "http://jaiscr.eu/\n",
      "http://ijfs.usb.ac.ir/\n",
      "https://journals.sagepub.com/home/ijr\n",
      "https://www.springer.com/journal/13042\n",
      "https://onlinelibrary.wiley.com/journal/1098111x\n",
      "https://www.springer.com/journal/41315\n",
      "https://www.journals.elsevier.com/international-journal-of-information-management/\n",
      "https://www.springer.com/journal/40815\n",
      "https://www.journals.elsevier.com/international-journal-of-approximate-reasoning\n",
      "https://journals.sagepub.com/home/arx\n",
      "https://www.springer.com/journal/11370\n",
      "https://www.iospress.nl/journal/integrated-computer-aided-engineering/\n",
      "https://www.journals.elsevier.com/information-sciences\n",
      "https://ieeexplore.ieee.org/xpl/RecentIssue.jsp?punumber=6570654\n",
      "https://ieeexplore.ieee.org/xpl/RecentIssue.jsp?punumber=34\n",
      "https://ieeexplore.ieee.org/xpl/RecentIssue.jsp?punumber=5962385\n",
      "https://ieeexplore.ieee.org/xpl/RecentIssue.jsp?punumber=6221037\n",
      "http://ieeexplore.ieee.org/xpl/RecentIssue.jsp?punumber=91\n",
      "https://www.comsoc.org/publications/journals/ieee-tccn\n",
      "https://ieeexplore.ieee.org/xpl/RecentIssue.jsp?punumber=7274989\n",
      "https://ieeexplore.ieee.org/xpl/RecentIssue.jsp?punumber=9670\n",
      "https://ieeexplore.ieee.org/xpl/aboutJournal.jsp?punumber=10207\n",
      "https://www.journals.elsevier.com/ict-express/\n",
      "https://www.journals.elsevier.com/fuzzy-sets-and-systems\n",
      "https://www.springer.com/journal/10700\n",
      "https://www.frontiersin.org/journals/robotics-and-ai\n",
      "https://www.frontiersin.org/journals/neurorobotics\n",
      "https://www.nowpublishers.com/MAL\n",
      "https://www.journals.elsevier.com/expert-systems-with-applications\n",
      "https://onlinelibrary.wiley.com/journal/14680394\n",
      "https://www.springer.com/journal/12065\n",
      "https://www.journals.elsevier.com/engineering-applications-of-artificial-intelligence\n",
      "https://www.journals.elsevier.com/digital-signal-processing\n",
      "https://www.journals.elsevier.com/design-studies\n",
      "https://www.tandfonline.com/toc/ucbs20/current\n",
      "https://www.springer.com/journal/10601\n",
      "https://www.mitpressjournals.org/loi/coli\n",
      "https://www.journals.elsevier.com/cognitive-systems-research\n",
      "https://onlinelibrary.wiley.com/journal/15516709\n",
      "https://www.journals.elsevier.com/cognitive-psychology\n",
      "https://www.springer.com/journal/10514\n",
      "https://www.springer.com/journal/10462\n",
      "https://www.journals.elsevier.com/artificial-intelligence-in-medicine\n",
      "https://www.springer.com/journal/10506\n",
      "https://www.journals.elsevier.com/artificial-intelligence/\n",
      "http://www.springer.com/computer+science/ai/journal/10489\n",
      "https://www.hindawi.com/journals/acisc/\n",
      "https://aaai.org/Magazine/magazine.php\n",
      "https://www.journals.elsevier.com/advanced-engineering-informatics\n",
      "https://dl.acm.org/journal/tiis\n",
      "https://tist.acm.org/\n",
      "https://dl.acm.org/journal/tcps\n",
      "https://www.tandfonline.com/toc/hscc20/current\n",
      "http://www.elsevier.com/wps/find/journaldescription.cws_home/505651/description#description\n",
      "https://www.sciencedirect.com/journal/medical-image-analysis\n",
      "https://www.springer.com/journal/138\n",
      "https://www.journals.elsevier.com/journal-of-visual-communication-and-image-representation\n",
      "https://www.osapublishing.org/josaa/home.cfm\n",
      "https://www.springer.com/journal/10851\n",
      "https://www.mdpi.com/journal/jimaging\n",
      "https://www.springer.com/journal/10032\n",
      "https://www.springer.com/journal/13042\n",
      "https://onlinelibrary.wiley.com/journal/10981098\n",
      "https://link.springer.com/journal/11263\n",
      "https://www.springer.com/journal/11548\n",
      "https://www.journals.elsevier.com/image-and-vision-computing\n",
      "https://digital-library.theiet.org/content/journals/iet-cvi\n",
      "https://digital-library.theiet.org/content/journals/iet-bmt\n",
      "https://ieeexplore.ieee.org/xpl/RecentIssue.jsp?punumber=2945\n",
      "https://www.springer.com/journal/791\n",
      "https://www.journals.elsevier.com/computers-and-graphics\n",
      "https://www.journals.elsevier.com/computerized-medical-imaging-and-graphics\n",
      "https://www.sciencedirect.com/journal/computer-vision-and-image-understanding\n",
      "http://computeroptics.smr.ru/eng/index.html\n",
      "https://www.springer.com/journal/12559\n",
      "https://iopscience.iop.org/journal/0964-1726\n",
      "https://www.springer.com/journal/11760\n",
      "https://www.journals.elsevier.com/signal-processing\n",
      "https://www.springer.com/journal/11128\n",
      "https://www.springer.com/journal/11045\n",
      "https://www.journals.elsevier.com/mechanical-systems-and-signal-processing/\n",
      "https://www.journals.elsevier.com/journal-of-visual-communication-and-image-representation\n",
      "https://www.sciencedirect.com/journal/journal-of-the-franklin-institute\n",
      "https://iopscience.iop.org/journal/0266-5611\n",
      "https://onlinelibrary.wiley.com/journal/10991115\n",
      "https://www.sciencedirect.com/journal/information-fusion\n",
      "https://digital-library.theiet.org/content/journals/iet-spr\n",
      "https://ieeexplore.ieee.org/xpl/RecentIssue.jsp?punumber=6570655\n",
      "https://ieeexplore.ieee.org/xpl/RecentIssue.jsp?punumber=2945\n",
      "https://ieeexplore.ieee.org/xpl/RecentIssue.jsp?punumber=78\n",
      "https://ieeexplore.ieee.org/xpl/aboutJournal.jsp?punumber=6884276\n",
      "http://ieeexplore.ieee.org/xpl/RecentIssue.jsp?punumber=71\n",
      "https://ieeexplore.ieee.org/xpl/RecentIssue.jsp?punumber=6046\n",
      "https://ieeexplore.ieee.org/xpl/RecentIssue.jsp?punumber=6509490\n",
      "https://ieeexplore.ieee.org/xpl/RecentIssue.jsp?punumber=6745852\n",
      "https://www.ieee.org/membership-catalog/productdetail/showProductDetailPage.html?product=PER310-PRT\n",
      "https://ieeexplore.ieee.org/xpl/RecentIssue.jsp?punumber=97\n",
      "https://ieeexplore.ieee.org/xpl/RecentIssue.jsp?punumber=93\n",
      "https://ieeexplore.ieee.org/xpl/RecentIssue.jsp?punumber=4200690\n",
      "http://ieee-iotj.org/\n",
      "https://www.springer.com/computer/journal/11714?detailsPage=aboutThis\n",
      "https://www.nowpublishers.com/SIG\n",
      "https://jis-eurasipjournals.springeropen.com/\n",
      "https://jivp-eurasipjournals.springeropen.com\n",
      "https://link.springer.com/journal/13637/volumes-and-issues\n",
      "https://www.mdpi.com/journal/electronics\n",
      "https://www.springer.com/journal/34\n",
      "https://www.journals.elsevier.com/biomedical-signal-processing-and-control\n",
      "https://tsas.acm.org/\n",
      "https://www.journals.elsevier.com/speech-communication\n",
      "https://www.cambridge.org/core/journals/recall\n",
      "https://www.springer.com/journal/10590\n",
      "https://www.springer.com/journal/10579\n",
      "https://www.lltjournal.org//\n",
      "https://www.springer.com/journal/10772\n",
      "https://benjamins.com/catalog/ijcl\n",
      "http://www.degruyter.de/journals/cllt/detailEn.cfm\n",
      "https://www.tandfonline.com/toc/ncal20/current\n",
      "https://journals.equinoxpub.com/index.php/CALICO/index\n",
      "https://www.iospress.nl/journal/applied-ontology/\n",
      "https://onlinelibrary.wiley.com/journal/17590884\n",
      "https://www.journals.elsevier.com/wave-motion\n",
      "https://www.tandfonline.com/toc/tsma20/current\n",
      "https://www.siam.org/publications/journals/siam-review-sirev\n",
      "https://www.siam.org/publications/journals/siam-journal-on-numerical-analysis-sinum\n",
      "https://www.siam.org/publications/journals/siam-journal-on-mathematical-analysis-sima\n",
      "https://www.siam.org/publications/journals/siam-journal-on-scientific-computing-sisc\n",
      "https://www.springer.com/journal/13398\n",
      "https://www.springer.com/journal/211\n",
      "https://www.cambridge.org/core/journals/numerical-mathematics-theory-methods-and-applications\n",
      "https://www.ams.org/publications/journals/journalsframework/mcom\n",
      "http://www.elsevier.com/wps/find/journaldescription.cws_home/622902/description#description\n",
      "https://www.degruyter.com/view/journals/jnma/jnma-overview.xml\n",
      "https://www.journals.elsevier.com/journal-of-computational-design-and-engineering\n",
      "https://www.journals.elsevier.com/journal-of-computational-and-applied-mathematics\n",
      "https://www.springer.com/journal/12190\n",
      "https://journals.sagepub.com/home/act\n",
      "https://www.inderscience.com/jhome.php?jcode=ijcsm\n",
      "https://www.inderscience.com/jhome.php?jcode=ijcse\n",
      "https://www.worldscientific.com/worldscinet/ijcm\n",
      "https://www.atlantis-press.com/journals/ijcis\n",
      "https://academic.oup.com/imajna\n",
      "https://ieeexplore.ieee.org/xpl/RecentIssue.jsp?punumber=6745852\n",
      "https://www.springer.com/journal/10208\n",
      "https://www.cambridge.org/core/journals/forum-of-mathematics-sigma\n",
      "https://www.mitpressjournals.org/loi/evco\n",
      "https://link.springer.com/journal/13675\n",
      "https://www.esaim-m2an.org/\n",
      "https://www.esaim-cocv.org/\n",
      "https://epjdatascience.springeropen.com/\n",
      "https://www.springer.com/journal/365\n",
      "https://www.springer.com/journal/607\n",
      "https://www.springer.com/journal/180\n",
      "https://www.springer.com/journal/10589\n",
      "https://www.degruyter.com/view/journals/cmam/cmam-overview.xml\n",
      "https://www.journals.elsevier.com/computational-materials-science\n",
      "https://onlinelibrary.wiley.com/journal/14678640\n",
      "https://www.springer.com/journal/10588\n",
      "https://www.springer.com/journal/40314\n",
      "https://link.springer.com/journal/40304\n",
      "https://www.journals.elsevier.com/applied-numerical-mathematics/\n",
      "https://www.journals.elsevier.com/applied-mathematics-and-computation\n",
      "http://www.hindawi.com/journals/afs/\n",
      "https://www.springer.com/journal/10444\n",
      "http://www.techno-press.org/?journal=acd&subpage=5\n",
      "https://dl.acm.org/journal/tocl\n",
      "http://ieeexplore.ieee.org/xpl/RecentIssue.jsp?punumber=4235\n",
      "https://dl.acm.org/journal/toct\n",
      "https://www.worldscientific.com/worldscinet/nmnc\n",
      "https://www.journals.elsevier.com/information-and-computation\n",
      "https://www.journals.elsevier.com/computational-statistics-and-data-analysis\n",
      "https://www.emerald.com/insight/publication/issn/0264-4401\n",
      "https://www.journals.elsevier.com/journal-of-logical-and-algebraic-methods-in-programming\n",
      "https://www.iospress.nl/journal/fundamenta-informaticae/\n",
      "https://www.tandfonline.com/toc/gcom20/current\n",
      "http://wacong.org/autosoft/auto/\n",
      "http://match.pmf.kg.ac.rs/\n",
      "http://www.ijfis.org/main.html\n",
      "https://www.mdpi.com/journal/algorithms\n",
      "https://www.tandfonline.com/toc/hoce20/current\n",
      "https://www.springer.com/journal/446\n",
      "https://www.journals.elsevier.com/journal-of-computer-and-system-sciences\n",
      "https://www.springer.com/journal/11390\n",
      "https://www.springer.com/education+%26+language/learning+%26+instruction/journal/10758\n",
      "https://www.springer.com/journal/10915\n",
      "http://univagora.ro/jour/index.php/ijccc/\n",
      "https://www.springer.com/journal/607\n",
      "https://academic.oup.com/imaiai\n",
      "https://www.springer.com/computer/journal/11416\n",
      "https://www.springer.com/journal/450\n",
      "https://www.springer.com/journal/11222\n",
      "https://ieeexplore.ieee.org/xpl/RecentIssue.jsp?punumber=12\n",
      "https://www.journals.elsevier.com/computers-and-mathematics-with-applications\n",
      "https://www.springer.com/journal/12351/\n",
      "https://www.springer.com/journal/40593\n",
      "https://ieeexplore.ieee.org/xpl/RecentIssue.jsp?punumber=7756\n",
      "http://ieeexplore.ieee.org/xpl/RecentIssue.jsp?punumber=69\n"
     ]
    }
   ],
   "source": [
    "for k in good_journals:\n",
    "    print (urls.get(k, ''))"
   ]
  },
  {
   "cell_type": "code",
   "execution_count": 113,
   "metadata": {},
   "outputs": [
    {
     "name": "stderr",
     "output_type": "stream",
     "text": [
      "\r",
      "  0%|          | 0/234 [00:00<?, ?it/s]"
     ]
    },
    {
     "name": "stdout",
     "output_type": "stream",
     "text": [
      "Swarm Intelligence https://www.springer.com/journal/11721\n",
      "6\n",
      "33\n"
     ]
    },
    {
     "name": "stderr",
     "output_type": "stream",
     "text": [
      "\r",
      "  1%|▏         | 3/234 [00:15<19:27,  5.05s/it]"
     ]
    },
    {
     "name": "stdout",
     "output_type": "stream",
     "text": [
      "Pattern Analysis and Applications https://www.springer.com/journal/10044\n",
      "16\n",
      "52\n"
     ]
    },
    {
     "name": "stderr",
     "output_type": "stream",
     "text": [
      "\r",
      "  4%|▍         | 10/234 [00:24<14:46,  3.96s/it]"
     ]
    },
    {
     "name": "stdout",
     "output_type": "stream",
     "text": [
      "Neural Processing Letters http://www.springer.com/computer+science/ai/journal/11063\n",
      "17\n",
      "40\n"
     ]
    },
    {
     "name": "stderr",
     "output_type": "stream",
     "text": [
      "\r",
      "  5%|▌         | 12/234 [00:34<15:38,  4.23s/it]"
     ]
    },
    {
     "name": "stdout",
     "output_type": "stream",
     "text": [
      "Neural Computing and Applications http://www.springer.com/new+%26+forthcoming+titles+%28default%29/journal/521\n",
      "14\n",
      "38\n"
     ]
    },
    {
     "name": "stderr",
     "output_type": "stream",
     "text": [
      "\r",
      "  6%|▌         | 14/234 [00:47<17:51,  4.87s/it]"
     ]
    },
    {
     "name": "stdout",
     "output_type": "stream",
     "text": [
      "Networks and Spatial Economics https://www.springer.com/journal/11067\n",
      "28\n",
      "68\n"
     ]
    },
    {
     "name": "stderr",
     "output_type": "stream",
     "text": [
      "\r",
      "  6%|▋         | 15/234 [00:54<19:47,  5.42s/it]"
     ]
    },
    {
     "name": "stdout",
     "output_type": "stream",
     "text": [
      "Multidimensional Systems and Signal Processing https://www.springer.com/journal/11045\n",
      "15\n",
      "38\n"
     ]
    },
    {
     "name": "stderr",
     "output_type": "stream",
     "text": [
      "\r",
      "  8%|▊         | 18/234 [00:59<15:40,  4.35s/it]"
     ]
    },
    {
     "name": "stdout",
     "output_type": "stream",
     "text": [
      "Minds and Machines https://www.springer.com/journal/11023\n",
      "11\n",
      "28\n"
     ]
    },
    {
     "name": "stderr",
     "output_type": "stream",
     "text": [
      "\r",
      "  8%|▊         | 19/234 [01:15<27:27,  7.66s/it]"
     ]
    },
    {
     "name": "stdout",
     "output_type": "stream",
     "text": [
      "Machine Learning https://www.springer.com/journal/10994\n",
      "9\n",
      "49\n"
     ]
    },
    {
     "name": "stderr",
     "output_type": "stream",
     "text": [
      "\r",
      "  9%|▊         | 20/234 [01:24<28:57,  8.12s/it]"
     ]
    },
    {
     "name": "stdout",
     "output_type": "stream",
     "text": [
      "Knowledge and Information Systems https://www.springer.com/journal/10115\n",
      "19\n",
      "62\n"
     ]
    },
    {
     "name": "stderr",
     "output_type": "stream",
     "text": [
      "\r",
      " 10%|█         | 24/234 [01:34<22:35,  6.45s/it]"
     ]
    },
    {
     "name": "stdout",
     "output_type": "stream",
     "text": [
      "Journal of Scheduling https://www.springer.com/journal/10951\n",
      "19\n",
      "66\n"
     ]
    },
    {
     "name": "stderr",
     "output_type": "stream",
     "text": [
      "\r",
      " 11%|█         | 26/234 [01:48<23:02,  6.65s/it]"
     ]
    },
    {
     "name": "stdout",
     "output_type": "stream",
     "text": [
      "Journal of Intelligent Manufacturing https://link.springer.com/journal/10845\n",
      "6\n",
      "27\n"
     ]
    },
    {
     "name": "stderr",
     "output_type": "stream",
     "text": [
      "\r",
      " 13%|█▎        | 30/234 [02:00<18:42,  5.50s/it]"
     ]
    },
    {
     "name": "stdout",
     "output_type": "stream",
     "text": [
      "Journal of Intelligent Information Systems https://www.springer.com/journal/10844\n",
      "13\n",
      "43\n"
     ]
    },
    {
     "name": "stderr",
     "output_type": "stream",
     "text": [
      "\r",
      " 13%|█▎        | 31/234 [02:06<19:38,  5.81s/it]"
     ]
    },
    {
     "name": "stdout",
     "output_type": "stream",
     "text": [
      "Journal of Intelligent and Robotic Systems: Theory and Applications https://www.springer.com/journal/10846\n",
      "7\n",
      "33\n"
     ]
    },
    {
     "name": "stderr",
     "output_type": "stream",
     "text": [
      "\r",
      " 14%|█▎        | 32/234 [02:12<19:27,  5.78s/it]"
     ]
    },
    {
     "name": "stdout",
     "output_type": "stream",
     "text": [
      "Journal of Heuristics https://www.springer.com/journal/10732\n",
      "12\n",
      "70\n"
     ]
    },
    {
     "name": "stderr",
     "output_type": "stream",
     "text": [
      "\r",
      " 15%|█▍        | 34/234 [02:20<17:37,  5.29s/it]"
     ]
    },
    {
     "name": "stdout",
     "output_type": "stream",
     "text": [
      "Journal of Automated Reasoning https://www.springer.com/journal/10817\n",
      "12\n",
      "45\n"
     ]
    },
    {
     "name": "stderr",
     "output_type": "stream",
     "text": [
      "\r",
      " 15%|█▌        | 36/234 [02:32<17:59,  5.45s/it]"
     ]
    },
    {
     "name": "stdout",
     "output_type": "stream",
     "text": [
      "International Journal of Machine Learning and Cybernetics https://www.springer.com/journal/13042\n",
      "12\n",
      "42\n"
     ]
    },
    {
     "name": "stderr",
     "output_type": "stream",
     "text": [
      "\r",
      " 18%|█▊        | 41/234 [02:37<13:22,  4.16s/it]"
     ]
    },
    {
     "name": "stdout",
     "output_type": "stream",
     "text": [
      "International Journal of Intelligent Robotics and Applications https://www.springer.com/journal/41315\n",
      "15\n",
      "21\n"
     ]
    },
    {
     "name": "stderr",
     "output_type": "stream",
     "text": [
      "\r",
      " 18%|█▊        | 43/234 [02:47<13:57,  4.38s/it]"
     ]
    },
    {
     "name": "stdout",
     "output_type": "stream",
     "text": [
      "International Journal of Fuzzy Systems https://www.springer.com/journal/40815\n",
      "8\n",
      "31\n"
     ]
    },
    {
     "name": "stderr",
     "output_type": "stream",
     "text": [
      "\r",
      " 19%|█▉        | 45/234 [02:56<13:41,  4.35s/it]"
     ]
    },
    {
     "name": "stdout",
     "output_type": "stream",
     "text": [
      "Intelligent Service Robotics https://www.springer.com/journal/11370\n",
      "10\n",
      "47\n"
     ]
    },
    {
     "name": "stderr",
     "output_type": "stream",
     "text": [
      "\r",
      " 21%|██        | 48/234 [03:05<12:23,  4.00s/it]"
     ]
    },
    {
     "name": "stdout",
     "output_type": "stream",
     "text": [
      "Fuzzy Optimization and Decision Making https://www.springer.com/journal/10700\n",
      "11\n",
      "42\n"
     ]
    },
    {
     "name": "stderr",
     "output_type": "stream",
     "text": [
      "\r",
      " 26%|██▋       | 62/234 [03:21<08:58,  3.13s/it]"
     ]
    },
    {
     "name": "stdout",
     "output_type": "stream",
     "text": [
      "Evolutionary Intelligence https://www.springer.com/journal/12065\n",
      "12\n",
      "26\n"
     ]
    },
    {
     "name": "stderr",
     "output_type": "stream",
     "text": [
      "\r",
      " 29%|██▉       | 68/234 [03:29<07:08,  2.58s/it]"
     ]
    },
    {
     "name": "stdout",
     "output_type": "stream",
     "text": [
      "Constraints https://www.springer.com/journal/10601\n",
      "10\n",
      "44\n"
     ]
    },
    {
     "name": "stderr",
     "output_type": "stream",
     "text": [
      "\r",
      " 31%|███       | 73/234 [03:41<06:51,  2.55s/it]"
     ]
    },
    {
     "name": "stdout",
     "output_type": "stream",
     "text": [
      "Autonomous Robots https://www.springer.com/journal/10514\n",
      "26\n",
      "54\n"
     ]
    },
    {
     "name": "stderr",
     "output_type": "stream",
     "text": [
      "\r",
      " 33%|███▎      | 78/234 [03:51<06:11,  2.38s/it]"
     ]
    },
    {
     "name": "stdout",
     "output_type": "stream",
     "text": [
      "Artificial Intelligence Review https://www.springer.com/journal/10462\n",
      "17\n",
      "42\n"
     ]
    },
    {
     "name": "stderr",
     "output_type": "stream",
     "text": [
      "\r",
      " 34%|███▍      | 79/234 [04:05<15:18,  5.92s/it]"
     ]
    },
    {
     "name": "stdout",
     "output_type": "stream",
     "text": [
      "Artificial Intelligence and Law https://www.springer.com/journal/10506\n",
      "11\n",
      "33\n"
     ]
    },
    {
     "name": "stderr",
     "output_type": "stream",
     "text": [
      "\r",
      " 35%|███▍      | 81/234 [04:16<14:37,  5.74s/it]"
     ]
    },
    {
     "name": "stdout",
     "output_type": "stream",
     "text": [
      "Applied Intelligence http://www.springer.com/computer+science/ai/journal/10489\n",
      "3\n",
      "29\n"
     ]
    },
    {
     "name": "stderr",
     "output_type": "stream",
     "text": [
      "\r",
      " 35%|███▌      | 83/234 [04:23<12:59,  5.16s/it]"
     ]
    },
    {
     "name": "stdout",
     "output_type": "stream",
     "text": [
      "Machine Vision and Applications https://www.springer.com/journal/138\n",
      "28\n",
      "51\n"
     ]
    },
    {
     "name": "stderr",
     "output_type": "stream",
     "text": [
      "\r",
      " 40%|███▉      | 93/234 [04:32<09:06,  3.88s/it]"
     ]
    },
    {
     "name": "stdout",
     "output_type": "stream",
     "text": [
      "Journal of Mathematical Imaging and Vision https://www.springer.com/journal/10851\n",
      "12\n",
      "41\n"
     ]
    },
    {
     "name": "stderr",
     "output_type": "stream",
     "text": [
      "\r",
      " 41%|████      | 96/234 [04:47<09:32,  4.15s/it]"
     ]
    },
    {
     "name": "stdout",
     "output_type": "stream",
     "text": [
      "International Journal on Document Analysis and Recognition https://www.springer.com/journal/10032\n",
      "10\n",
      "51\n"
     ]
    },
    {
     "name": "stderr",
     "output_type": "stream",
     "text": [
      "\r",
      " 42%|████▏     | 98/234 [04:59<10:43,  4.73s/it]"
     ]
    },
    {
     "name": "stdout",
     "output_type": "stream",
     "text": [
      "International Journal of Machine Learning and Cybernetics https://www.springer.com/journal/13042\n",
      "12\n",
      "42\n"
     ]
    },
    {
     "name": "stderr",
     "output_type": "stream",
     "text": [
      "\r",
      " 42%|████▏     | 99/234 [05:07<13:23,  5.95s/it]"
     ]
    },
    {
     "name": "stdout",
     "output_type": "stream",
     "text": [
      "International Journal of Computer Vision https://link.springer.com/journal/11263\n",
      "15\n",
      "49\n"
     ]
    },
    {
     "name": "stderr",
     "output_type": "stream",
     "text": [
      "\r",
      " 43%|████▎     | 101/234 [05:18<12:39,  5.71s/it]"
     ]
    },
    {
     "name": "stdout",
     "output_type": "stream",
     "text": [
      "International journal of computer assisted radiology and surgery https://www.springer.com/journal/11548\n",
      "6\n",
      "22\n"
     ]
    },
    {
     "name": "stderr",
     "output_type": "stream",
     "text": [
      "\r",
      " 44%|████▎     | 102/234 [05:28<15:39,  7.12s/it]"
     ]
    },
    {
     "name": "stdout",
     "output_type": "stream",
     "text": [
      "Computing and Visualization in Science https://www.springer.com/journal/791\n",
      "None\n",
      "None\n"
     ]
    },
    {
     "name": "stderr",
     "output_type": "stream",
     "text": [
      "\r",
      " 46%|████▌     | 107/234 [05:38<11:45,  5.55s/it]"
     ]
    },
    {
     "name": "stdout",
     "output_type": "stream",
     "text": [
      "Cognitive Computation https://www.springer.com/journal/12559\n",
      "21\n",
      "47\n"
     ]
    },
    {
     "name": "stderr",
     "output_type": "stream",
     "text": [
      "\r",
      " 48%|████▊     | 112/234 [05:53<09:46,  4.80s/it]"
     ]
    },
    {
     "name": "stdout",
     "output_type": "stream",
     "text": [
      "Signal, Image and Video Processing https://www.springer.com/journal/11760\n",
      "17\n",
      "36\n"
     ]
    },
    {
     "name": "stderr",
     "output_type": "stream",
     "text": [
      "\r",
      " 49%|████▊     | 114/234 [06:05<10:11,  5.10s/it]"
     ]
    },
    {
     "name": "stdout",
     "output_type": "stream",
     "text": [
      "Quantum Information Processing https://www.springer.com/journal/11128\n",
      "13\n",
      "28\n"
     ]
    },
    {
     "name": "stderr",
     "output_type": "stream",
     "text": [
      "\r",
      " 50%|████▉     | 116/234 [06:17<10:35,  5.38s/it]"
     ]
    },
    {
     "name": "stdout",
     "output_type": "stream",
     "text": [
      "Multidimensional Systems and Signal Processing https://www.springer.com/journal/11045\n",
      "15\n",
      "38\n"
     ]
    },
    {
     "name": "stderr",
     "output_type": "stream",
     "text": [
      "\r",
      " 50%|█████     | 117/234 [06:22<10:36,  5.44s/it]"
     ]
    },
    {
     "name": "stdout",
     "output_type": "stream",
     "text": [
      "Frontiers of Information Technology and Electronic Engineering https://www.springer.com/computer/journal/11714?detailsPage=aboutThis\n",
      "10\n",
      "19\n"
     ]
    },
    {
     "name": "stderr",
     "output_type": "stream",
     "text": [
      "\r",
      " 59%|█████▉    | 138/234 [06:33<06:19,  3.96s/it]"
     ]
    },
    {
     "name": "stdout",
     "output_type": "stream",
     "text": [
      "Eurasip Journal on Bioinformatics and Systems Biology https://link.springer.com/journal/13637/volumes-and-issues\n",
      "None\n",
      "None\n"
     ]
    },
    {
     "name": "stderr",
     "output_type": "stream",
     "text": [
      "\r",
      " 61%|██████    | 142/234 [06:48<06:00,  3.91s/it]"
     ]
    },
    {
     "name": "stdout",
     "output_type": "stream",
     "text": [
      "Circuits, Systems, and Signal Processing https://www.springer.com/journal/34\n",
      "11\n",
      "34\n"
     ]
    },
    {
     "name": "stderr",
     "output_type": "stream",
     "text": [
      "\r",
      " 62%|██████▏   | 144/234 [06:58<06:22,  4.25s/it]"
     ]
    },
    {
     "name": "stdout",
     "output_type": "stream",
     "text": [
      "Machine Translation https://www.springer.com/journal/10590\n",
      "10\n",
      "43\n"
     ]
    },
    {
     "name": "stderr",
     "output_type": "stream",
     "text": [
      "\r",
      " 64%|██████▎   | 149/234 [07:09<05:08,  3.63s/it]"
     ]
    },
    {
     "name": "stdout",
     "output_type": "stream",
     "text": [
      "Language Resources and Evaluation https://www.springer.com/journal/10579\n",
      "15\n",
      "67\n"
     ]
    },
    {
     "name": "stderr",
     "output_type": "stream",
     "text": [
      "\r",
      " 64%|██████▍   | 150/234 [07:22<09:02,  6.46s/it]"
     ]
    },
    {
     "name": "stdout",
     "output_type": "stream",
     "text": [
      "International Journal of Speech Technology https://www.springer.com/journal/10772\n",
      "19\n",
      "32\n"
     ]
    },
    {
     "name": "stderr",
     "output_type": "stream",
     "text": [
      "\r",
      " 65%|██████▍   | 152/234 [07:30<07:48,  5.71s/it]"
     ]
    },
    {
     "name": "stdout",
     "output_type": "stream",
     "text": [
      "Revista de la Real Academia de Ciencias Exactas, Fisicas y Naturales - Serie A: Matematicas https://www.springer.com/journal/13398\n",
      "15\n",
      "32\n"
     ]
    },
    {
     "name": "stderr",
     "output_type": "stream",
     "text": [
      "\r",
      " 71%|███████   | 165/234 [07:41<04:54,  4.27s/it]"
     ]
    },
    {
     "name": "stdout",
     "output_type": "stream",
     "text": [
      "Numerische Mathematik https://www.springer.com/journal/211\n",
      "None\n",
      "None\n"
     ]
    },
    {
     "name": "stderr",
     "output_type": "stream",
     "text": [
      "\r",
      " 71%|███████   | 166/234 [07:52<06:49,  6.02s/it]"
     ]
    },
    {
     "name": "stdout",
     "output_type": "stream",
     "text": [
      "Journal of Applied Mathematics and Computing https://www.springer.com/journal/12190\n",
      "5\n",
      "16\n"
     ]
    },
    {
     "name": "stderr",
     "output_type": "stream",
     "text": [
      "\r",
      " 74%|███████▍  | 173/234 [08:06<04:54,  4.83s/it]"
     ]
    },
    {
     "name": "stdout",
     "output_type": "stream",
     "text": [
      "Foundations of Computational Mathematics https://www.springer.com/journal/10208\n",
      "None\n",
      "None\n"
     ]
    },
    {
     "name": "stderr",
     "output_type": "stream",
     "text": [
      "\r",
      " 77%|███████▋  | 181/234 [08:12<03:11,  3.61s/it]"
     ]
    },
    {
     "name": "stdout",
     "output_type": "stream",
     "text": [
      "EURO Journal on Computational Optimization https://link.springer.com/journal/13675\n",
      "14\n",
      "41\n"
     ]
    },
    {
     "name": "stderr",
     "output_type": "stream",
     "text": [
      "\r",
      " 79%|███████▊  | 184/234 [08:22<02:54,  3.50s/it]"
     ]
    },
    {
     "name": "stdout",
     "output_type": "stream",
     "text": [
      "Constructive Approximation https://www.springer.com/journal/365\n",
      "None\n",
      "None\n"
     ]
    },
    {
     "name": "stderr",
     "output_type": "stream",
     "text": [
      "\r",
      " 80%|████████  | 188/234 [08:33<02:31,  3.30s/it]"
     ]
    },
    {
     "name": "stdout",
     "output_type": "stream",
     "text": [
      "Computing (Vienna/New York) https://www.springer.com/journal/607\n",
      "9\n",
      "35\n"
     ]
    },
    {
     "name": "stderr",
     "output_type": "stream",
     "text": [
      "\r",
      " 81%|████████  | 189/234 [08:47<04:53,  6.53s/it]"
     ]
    },
    {
     "name": "stdout",
     "output_type": "stream",
     "text": [
      "Computational Statistics https://www.springer.com/journal/180\n",
      "13\n",
      "64\n"
     ]
    },
    {
     "name": "stderr",
     "output_type": "stream",
     "text": [
      "\r",
      " 81%|████████  | 190/234 [08:54<04:52,  6.64s/it]"
     ]
    },
    {
     "name": "stdout",
     "output_type": "stream",
     "text": [
      "Computational Optimization and Applications https://www.springer.com/journal/10589\n",
      "7\n",
      "56\n"
     ]
    },
    {
     "name": "stderr",
     "output_type": "stream",
     "text": [
      "\r",
      " 82%|████████▏ | 191/234 [09:00<04:32,  6.33s/it]"
     ]
    },
    {
     "name": "stdout",
     "output_type": "stream",
     "text": [
      "Computational and Mathematical Organization Theory https://www.springer.com/journal/10588\n",
      "8\n",
      "39\n"
     ]
    },
    {
     "name": "stderr",
     "output_type": "stream",
     "text": [
      "\r",
      " 83%|████████▎ | 195/234 [09:09<03:18,  5.10s/it]"
     ]
    },
    {
     "name": "stdout",
     "output_type": "stream",
     "text": [
      "Computational and Applied Mathematics https://www.springer.com/journal/40314\n",
      "11\n",
      "36\n"
     ]
    },
    {
     "name": "stderr",
     "output_type": "stream",
     "text": [
      "\r",
      " 84%|████████▍ | 196/234 [09:16<03:39,  5.76s/it]"
     ]
    },
    {
     "name": "stdout",
     "output_type": "stream",
     "text": [
      "Communications in Mathematics and Statistics https://link.springer.com/journal/40304\n",
      "13\n",
      "49\n"
     ]
    },
    {
     "name": "stderr",
     "output_type": "stream",
     "text": [
      "\r",
      " 84%|████████▍ | 197/234 [09:23<03:51,  6.26s/it]"
     ]
    },
    {
     "name": "stdout",
     "output_type": "stream",
     "text": [
      "Advances in Computational Mathematics https://www.springer.com/journal/10444\n",
      "14\n",
      "42\n"
     ]
    },
    {
     "name": "stderr",
     "output_type": "stream",
     "text": [
      "\r",
      " 86%|████████▌ | 201/234 [09:31<02:42,  4.91s/it]"
     ]
    },
    {
     "name": "stdout",
     "output_type": "stream",
     "text": [
      "Distributed Computing https://www.springer.com/journal/446\n",
      "10\n",
      "77\n"
     ]
    },
    {
     "name": "stderr",
     "output_type": "stream",
     "text": [
      "\r",
      " 93%|█████████▎| 218/234 [09:36<00:56,  3.54s/it]"
     ]
    },
    {
     "name": "stdout",
     "output_type": "stream",
     "text": [
      "Journal of Computer Science and Technology https://www.springer.com/journal/11390\n",
      "None\n",
      "None\n"
     ]
    },
    {
     "name": "stderr",
     "output_type": "stream",
     "text": [
      "\r",
      " 94%|█████████▍| 220/234 [09:51<01:05,  4.70s/it]"
     ]
    },
    {
     "name": "stdout",
     "output_type": "stream",
     "text": [
      "Technology, Knowledge and Learning https://www.springer.com/education+%26+language/learning+%26+instruction/journal/10758\n",
      "13\n",
      "53\n"
     ]
    },
    {
     "name": "stderr",
     "output_type": "stream",
     "text": [
      "\r",
      " 94%|█████████▍| 221/234 [10:05<01:38,  7.55s/it]"
     ]
    },
    {
     "name": "stdout",
     "output_type": "stream",
     "text": [
      "Journal of Scientific Computing https://www.springer.com/journal/10915\n",
      "14\n",
      "36\n"
     ]
    },
    {
     "name": "stderr",
     "output_type": "stream",
     "text": [
      "\r",
      " 95%|█████████▍| 222/234 [10:15<01:38,  8.20s/it]"
     ]
    },
    {
     "name": "stdout",
     "output_type": "stream",
     "text": [
      "Computing (Vienna/New York) https://www.springer.com/journal/607\n",
      "9\n",
      "35\n"
     ]
    },
    {
     "name": "stderr",
     "output_type": "stream",
     "text": [
      "\r",
      " 96%|█████████▌| 224/234 [10:22<01:07,  6.79s/it]"
     ]
    },
    {
     "name": "stdout",
     "output_type": "stream",
     "text": [
      "Journal of Computer Virology and Hacking Techniques https://www.springer.com/computer/journal/11416\n",
      "13\n",
      "36\n"
     ]
    },
    {
     "name": "stderr",
     "output_type": "stream",
     "text": [
      "\r",
      " 97%|█████████▋| 226/234 [10:36<00:54,  6.87s/it]"
     ]
    },
    {
     "name": "stdout",
     "output_type": "stream",
     "text": [
      "Software-Intensive Cyber-Physical Systems https://www.springer.com/journal/450\n",
      "None\n",
      "None\n"
     ]
    },
    {
     "name": "stderr",
     "output_type": "stream",
     "text": [
      "\r",
      " 97%|█████████▋| 227/234 [10:46<00:54,  7.84s/it]"
     ]
    },
    {
     "name": "stdout",
     "output_type": "stream",
     "text": [
      "Statistics and Computing https://www.springer.com/journal/11222\n",
      "7\n",
      "39\n"
     ]
    },
    {
     "name": "stderr",
     "output_type": "stream",
     "text": [
      "\r",
      " 97%|█████████▋| 228/234 [10:56<00:51,  8.53s/it]"
     ]
    },
    {
     "name": "stdout",
     "output_type": "stream",
     "text": [
      "Operational Research https://www.springer.com/journal/12351/\n",
      "8\n",
      "49\n"
     ]
    },
    {
     "name": "stderr",
     "output_type": "stream",
     "text": [
      "\r",
      " 99%|█████████▊| 231/234 [11:02<00:19,  6.57s/it]"
     ]
    },
    {
     "name": "stdout",
     "output_type": "stream",
     "text": [
      "International Journal of Artificial Intelligence in Education https://www.springer.com/journal/40593\n",
      "7\n",
      "41\n"
     ]
    },
    {
     "name": "stderr",
     "output_type": "stream",
     "text": [
      "100%|██████████| 234/234 [11:10<00:00,  2.86s/it]\n"
     ]
    }
   ],
   "source": [
    "import math\n",
    "\n",
    "class MyHTMLParser(HTMLParser):\n",
    "    def __init__(self):\n",
    "        HTMLParser.__init__(self)                \n",
    "        self.date1 = None\n",
    "        self.date2 = None\n",
    "        \n",
    "    def handle_starttag(self, tag, attrs):\n",
    "        if tag == 'dd':\n",
    "            if 'metrics-speed-value' in [a[1] for a in attrs]:\n",
    "                self.date1 = True\n",
    "            if 'metrics-acceptance-time-value' in [a[1] for a in attrs]:\n",
    "                self.date2 = True\n",
    "                \n",
    "                \n",
    "            \n",
    "                    \n",
    "    def handle_data(self, data):\n",
    "        if self.date1 == True:\n",
    "                \n",
    "                self.date1 = math.ceil(int(data.split()[0])/7)\n",
    "        if self.date2 == True:\n",
    "                \n",
    "                self.date2 = math.ceil(int(data.split()[0])/7)\n",
    "\n",
    "\n",
    "springer = {}\n",
    "for k in tqdm.tqdm(good_journals):\n",
    "    url = urls.get(k, '')\n",
    "    if 'springer.com' in url:\n",
    "        print (k, url)\n",
    "        try:\n",
    "            text = requests.get(url).text\n",
    "            parser = MyHTMLParser()            \n",
    "            parser.feed(text)            \n",
    "            springer[k] = (parser.date1, parser.date2)\n",
    "            print (parser.date1)\n",
    "            print (parser.date2)\n",
    "        except:\n",
    "            print ('exception')\n",
    "        time.sleep(random.uniform(5, 15))\n",
    "            "
   ]
  },
  {
   "cell_type": "code",
   "execution_count": 117,
   "metadata": {},
   "outputs": [],
   "source": [
    "with open('springer.json', 'w') as out:\n",
    "    import json\n",
    "    out.write(json.dumps(springer))"
   ]
  },
  {
   "cell_type": "code",
   "execution_count": 122,
   "metadata": {},
   "outputs": [],
   "source": [
    "issn = {}\n",
    "with open('/home/legin/Downloads/scimagojr 2019.csv') as inp:\n",
    "    jrns = inp.readlines()\n",
    "    for k in jrns:       \n",
    "        issn[k.split(';')[2].strip('\"')] = k.split(';')[4]"
   ]
  },
  {
   "cell_type": "code",
   "execution_count": 126,
   "metadata": {
    "scrolled": false
   },
   "outputs": [
    {
     "data": {
      "text/plain": [
       "'\"18731457, 15710645\"'"
      ]
     },
     "execution_count": 126,
     "metadata": {},
     "output_type": "execute_result"
    }
   ],
   "source": [
    "issn['Physics of Life Reviews']"
   ]
  },
  {
   "cell_type": "code",
   "execution_count": 127,
   "metadata": {},
   "outputs": [],
   "source": [
    "result = requests.get('https://journalinsights.elsevier.com/journals/0167-8655/review_speed')"
   ]
  },
  {
   "cell_type": "code",
   "execution_count": 150,
   "metadata": {},
   "outputs": [],
   "source": [
    "from bs4 import BeautifulSoup\n",
    "bs = BeautifulSoup(result.text, 'html.parser')\n"
   ]
  },
  {
   "cell_type": "code",
   "execution_count": 156,
   "metadata": {},
   "outputs": [
    {
     "data": {
      "text/plain": [
       "[]"
      ]
     },
     "execution_count": 156,
     "metadata": {},
     "output_type": "execute_result"
    }
   ],
   "source": [
    "bs.findAll(lambda x:x.tag =='section')"
   ]
  },
  {
   "cell_type": "code",
   "execution_count": 197,
   "metadata": {
    "scrolled": false
   },
   "outputs": [
    {
     "data": {
      "text/plain": [
       "<re.Match object; span=(23380, 23494), match='Metrics         Year   Submission to first decisi>"
      ]
     },
     "execution_count": 197,
     "metadata": {},
     "output_type": "execute_result"
    }
   ],
   "source": [
    "clear = re.sub('<[/=\\s!\\'\\\"a-z0-9A-z]+>', ' ', result.text)\n",
    "clear = re.sub('\\\\n', ' ', clear)\n",
    "re.search('Metrics\\s+Year\\s+Submission to first decision\\s+Submission to final decision\\s+201\\d\\s+[\\d\\.]+\\s+[\\d\\.]+',\n",
    "          clear)"
   ]
  },
  {
   "cell_type": "code",
   "execution_count": null,
   "metadata": {},
   "outputs": [],
   "source": [
    "Metrics\\s+Year\\s+Submission to first decision\\s+Submission to final decision\\s+201\\d\\s[\\d\\.]+\\s[\\d\\.]"
   ]
  },
  {
   "cell_type": "code",
   "execution_count": 198,
   "metadata": {},
   "outputs": [
    {
     "data": {
      "text/plain": [
       "'Metrics         Year   Submission to first decision   Submission to final decision           2019    12.0     19.0'"
      ]
     },
     "execution_count": 198,
     "metadata": {},
     "output_type": "execute_result"
    }
   ],
   "source": [
    "clear[23380:23494]"
   ]
  },
  {
   "cell_type": "code",
   "execution_count": 225,
   "metadata": {},
   "outputs": [
    {
     "name": "stderr",
     "output_type": "stream",
     "text": [
      "\r",
      "  0%|          | 0/234 [00:00<?, ?it/s]"
     ]
    },
    {
     "name": "stdout",
     "output_type": "stream",
     "text": [
      "Physics of Life Reviews https://www.journals.elsevier.com/physics-of-life-reviews\n",
      "Physics of Life Reviews bad url https://journalinsights.elsevier.com/journals/1873-1457/review_speed \"18731457, 15710645\"\n",
      "Physics of Life Reviews 6 7\n"
     ]
    },
    {
     "name": "stderr",
     "output_type": "stream",
     "text": [
      "\r",
      "  3%|▎         | 7/234 [00:16<08:52,  2.35s/it]"
     ]
    },
    {
     "name": "stdout",
     "output_type": "stream",
     "text": [
      "Pattern Recognition Letters https://www.journals.elsevier.com/pattern-recognition-letters\n",
      "Pattern Recognition Letters 12 19\n"
     ]
    },
    {
     "name": "stderr",
     "output_type": "stream",
     "text": [
      "\r",
      "  3%|▎         | 8/234 [00:29<20:54,  5.55s/it]"
     ]
    },
    {
     "name": "stdout",
     "output_type": "stream",
     "text": [
      "Neurocomputing https://www.journals.elsevier.com/neurocomputing\n",
      "Neurocomputing 8 12\n"
     ]
    },
    {
     "name": "stderr",
     "output_type": "stream",
     "text": [
      "\r",
      "  5%|▍         | 11/234 [00:41<19:04,  5.13s/it]"
     ]
    },
    {
     "name": "stdout",
     "output_type": "stream",
     "text": [
      "Neural Networks https://www.journals.elsevier.com/neural-networks\n",
      "Neural Networks 8 13\n"
     ]
    },
    {
     "name": "stderr",
     "output_type": "stream",
     "text": [
      "\r",
      "  6%|▌         | 13/234 [00:56<21:29,  5.83s/it]"
     ]
    },
    {
     "name": "stdout",
     "output_type": "stream",
     "text": [
      "Knowledge-Based Systems https://www.journals.elsevier.com/knowledge-based-systems\n",
      "Knowledge-Based Systems 6 9\n"
     ]
    },
    {
     "name": "stderr",
     "output_type": "stream",
     "text": [
      "\r",
      "  9%|▉         | 22/234 [01:10<16:05,  4.55s/it]"
     ]
    },
    {
     "name": "stdout",
     "output_type": "stream",
     "text": [
      "Journal of Memory and Language https://www.journals.elsevier.com/journal-of-memory-and-language\n",
      "Journal of Memory and Language bad url https://journalinsights.elsevier.com/journals/1096-0821/review_speed \"10960821, 0749596X\"\n",
      "Journal of Memory and Language 6 14\n"
     ]
    },
    {
     "name": "stderr",
     "output_type": "stream",
     "text": [
      "\r",
      " 12%|█▏        | 28/234 [01:33<14:51,  4.33s/it]"
     ]
    },
    {
     "name": "stdout",
     "output_type": "stream",
     "text": [
      "International Journal of Information Management https://www.journals.elsevier.com/international-journal-of-information-management/\n",
      "International Journal of Information Management 5 7\n"
     ]
    },
    {
     "name": "stderr",
     "output_type": "stream",
     "text": [
      "\r",
      " 19%|█▉        | 44/234 [01:43<10:10,  3.21s/it]"
     ]
    },
    {
     "name": "stdout",
     "output_type": "stream",
     "text": [
      "International Journal of Approximate Reasoning https://www.journals.elsevier.com/international-journal-of-approximate-reasoning\n",
      "International Journal of Approximate Reasoning 9 13\n"
     ]
    },
    {
     "name": "stderr",
     "output_type": "stream",
     "text": [
      "\r",
      " 20%|█▉        | 46/234 [01:58<14:13,  4.54s/it]"
     ]
    },
    {
     "name": "stdout",
     "output_type": "stream",
     "text": [
      "Information Sciences https://www.journals.elsevier.com/information-sciences\n",
      "Information Sciences 8 13\n"
     ]
    },
    {
     "name": "stderr",
     "output_type": "stream",
     "text": [
      "\r",
      " 21%|██▏       | 50/234 [02:13<13:06,  4.27s/it]"
     ]
    },
    {
     "name": "stdout",
     "output_type": "stream",
     "text": [
      "ICT Express https://www.journals.elsevier.com/ict-express/\n",
      "ICT Express bad url https://journalinsights.elsevier.com/journals/2405-9595/review_speed \"24059595\"\n"
     ]
    },
    {
     "name": "stderr",
     "output_type": "stream",
     "text": [
      "\r",
      " 26%|██▌       | 60/234 [02:23<09:32,  3.29s/it]"
     ]
    },
    {
     "name": "stdout",
     "output_type": "stream",
     "text": [
      "Fuzzy Sets and Systems https://www.journals.elsevier.com/fuzzy-sets-and-systems\n",
      "Fuzzy Sets and Systems 13 21\n"
     ]
    },
    {
     "name": "stderr",
     "output_type": "stream",
     "text": [
      "\r",
      " 26%|██▌       | 61/234 [02:33<15:37,  5.42s/it]"
     ]
    },
    {
     "name": "stdout",
     "output_type": "stream",
     "text": [
      "Expert Systems with Applications https://www.journals.elsevier.com/expert-systems-with-applications\n",
      "Expert Systems with Applications bad url https://journalinsights.elsevier.com/journals/0957-4174/review_speed \"09574174\"\n"
     ]
    },
    {
     "name": "stderr",
     "output_type": "stream",
     "text": [
      "\r",
      " 28%|██▊       | 66/234 [02:44<12:24,  4.43s/it]"
     ]
    },
    {
     "name": "stdout",
     "output_type": "stream",
     "text": [
      "Engineering Applications of Artificial Intelligence https://www.journals.elsevier.com/engineering-applications-of-artificial-intelligence\n",
      "Engineering Applications of Artificial Intelligence 7 9\n"
     ]
    },
    {
     "name": "stderr",
     "output_type": "stream",
     "text": [
      "\r",
      " 29%|██▉       | 69/234 [02:52<10:42,  3.89s/it]"
     ]
    },
    {
     "name": "stdout",
     "output_type": "stream",
     "text": [
      "Digital Signal Processing: A Review Journal https://www.journals.elsevier.com/digital-signal-processing\n",
      "Digital Signal Processing: A Review Journal bad url https://journalinsights.elsevier.com/journals/1095-4333/review_speed \"10954333, 10512004\"\n",
      "Digital Signal Processing: A Review Journal 9 13\n"
     ]
    },
    {
     "name": "stderr",
     "output_type": "stream",
     "text": [
      "\r",
      " 30%|██▉       | 70/234 [03:20<30:25, 11.13s/it]"
     ]
    },
    {
     "name": "stdout",
     "output_type": "stream",
     "text": [
      "Design Studies https://www.journals.elsevier.com/design-studies\n",
      "Design Studies 4 9\n"
     ]
    },
    {
     "name": "stderr",
     "output_type": "stream",
     "text": [
      "\r",
      " 30%|███       | 71/234 [03:35<33:31, 12.34s/it]"
     ]
    },
    {
     "name": "stdout",
     "output_type": "stream",
     "text": [
      "Cognitive Systems Research https://www.journals.elsevier.com/cognitive-systems-research\n",
      "Cognitive Systems Research bad url https://journalinsights.elsevier.com/journals/1389-0417/review_speed \"13890417\"\n"
     ]
    },
    {
     "name": "stderr",
     "output_type": "stream",
     "text": [
      "\r",
      " 32%|███▏      | 75/234 [03:47<25:13,  9.52s/it]"
     ]
    },
    {
     "name": "stdout",
     "output_type": "stream",
     "text": [
      "Cognitive Psychology https://www.journals.elsevier.com/cognitive-psychology\n",
      "Cognitive Psychology bad url https://journalinsights.elsevier.com/journals/1095-5623/review_speed \"10955623, 00100285\"\n",
      "Cognitive Psychology 5 7\n"
     ]
    },
    {
     "name": "stderr",
     "output_type": "stream",
     "text": [
      "\r",
      " 33%|███▎      | 77/234 [04:07<25:33,  9.77s/it]"
     ]
    },
    {
     "name": "stdout",
     "output_type": "stream",
     "text": [
      "Artificial Intelligence in Medicine https://www.journals.elsevier.com/artificial-intelligence-in-medicine\n",
      "Artificial Intelligence in Medicine 10 13\n"
     ]
    },
    {
     "name": "stderr",
     "output_type": "stream",
     "text": [
      "\r",
      " 34%|███▍      | 80/234 [04:20<20:48,  8.11s/it]"
     ]
    },
    {
     "name": "stdout",
     "output_type": "stream",
     "text": [
      "Artificial Intelligence https://www.journals.elsevier.com/artificial-intelligence/\n",
      "Artificial Intelligence bad url https://journalinsights.elsevier.com/journals/0004-3702/review_speed \"00043702\"\n"
     ]
    },
    {
     "name": "stderr",
     "output_type": "stream",
     "text": [
      "\r",
      " 35%|███▌      | 82/234 [04:32<19:01,  7.51s/it]"
     ]
    },
    {
     "name": "stdout",
     "output_type": "stream",
     "text": [
      "Advanced Engineering Informatics https://www.journals.elsevier.com/advanced-engineering-informatics\n",
      "Advanced Engineering Informatics 6 8\n"
     ]
    },
    {
     "name": "stderr",
     "output_type": "stream",
     "text": [
      "\r",
      " 37%|███▋      | 86/234 [04:47<15:45,  6.39s/it]"
     ]
    },
    {
     "name": "stdout",
     "output_type": "stream",
     "text": [
      "Signal Processing: Image Communication http://www.elsevier.com/wps/find/journaldescription.cws_home/505651/description#description\n",
      "Signal Processing: Image Communication 7 11\n"
     ]
    },
    {
     "name": "stderr",
     "output_type": "stream",
     "text": [
      "\r",
      " 39%|███▉      | 91/234 [04:55<11:43,  4.92s/it]"
     ]
    },
    {
     "name": "stdout",
     "output_type": "stream",
     "text": [
      "Journal of Visual Communication and Image Representation https://www.journals.elsevier.com/journal-of-visual-communication-and-image-representation\n",
      "Journal of Visual Communication and Image Representation 8 12\n"
     ]
    },
    {
     "name": "stderr",
     "output_type": "stream",
     "text": [
      "\r",
      " 40%|████      | 94/234 [05:05<10:18,  4.42s/it]"
     ]
    },
    {
     "name": "stdout",
     "output_type": "stream",
     "text": [
      "Image and Vision Computing https://www.journals.elsevier.com/image-and-vision-computing\n",
      "Image and Vision Computing 10 12\n"
     ]
    },
    {
     "name": "stderr",
     "output_type": "stream",
     "text": [
      "\r",
      " 44%|████▍     | 103/234 [05:14<07:25,  3.40s/it]"
     ]
    },
    {
     "name": "stdout",
     "output_type": "stream",
     "text": [
      "Computers and Graphics https://www.journals.elsevier.com/computers-and-graphics\n",
      "Computers and Graphics 4 7\n"
     ]
    },
    {
     "name": "stderr",
     "output_type": "stream",
     "text": [
      "\r",
      " 46%|████▌     | 108/234 [05:23<06:12,  2.96s/it]"
     ]
    },
    {
     "name": "stdout",
     "output_type": "stream",
     "text": [
      "Computerized Medical Imaging and Graphics https://www.journals.elsevier.com/computerized-medical-imaging-and-graphics\n",
      "Computerized Medical Imaging and Graphics bad url https://journalinsights.elsevier.com/journals/1879-0771/review_speed \"18790771, 08956111\"\n",
      "Computerized Medical Imaging and Graphics 5 8\n"
     ]
    },
    {
     "name": "stderr",
     "output_type": "stream",
     "text": [
      "\r",
      " 47%|████▋     | 109/234 [05:47<18:52,  9.06s/it]"
     ]
    },
    {
     "name": "stdout",
     "output_type": "stream",
     "text": [
      "Signal Processing https://www.journals.elsevier.com/signal-processing\n",
      "Signal Processing 6 9\n"
     ]
    },
    {
     "name": "stderr",
     "output_type": "stream",
     "text": [
      "\r",
      " 49%|████▉     | 115/234 [05:54<13:18,  6.71s/it]"
     ]
    },
    {
     "name": "stdout",
     "output_type": "stream",
     "text": [
      "Mechanical Systems and Signal Processing https://www.journals.elsevier.com/mechanical-systems-and-signal-processing/\n",
      "Mechanical Systems and Signal Processing 10 15\n"
     ]
    },
    {
     "name": "stderr",
     "output_type": "stream",
     "text": [
      "\r",
      " 50%|█████     | 118/234 [06:03<10:52,  5.63s/it]"
     ]
    },
    {
     "name": "stdout",
     "output_type": "stream",
     "text": [
      "Journal of Visual Communication and Image Representation https://www.journals.elsevier.com/journal-of-visual-communication-and-image-representation\n",
      "Journal of Visual Communication and Image Representation 8 12\n"
     ]
    },
    {
     "name": "stderr",
     "output_type": "stream",
     "text": [
      "\r",
      " 51%|█████     | 119/234 [06:09<10:40,  5.57s/it]"
     ]
    },
    {
     "name": "stdout",
     "output_type": "stream",
     "text": [
      "Biomedical Signal Processing and Control https://www.journals.elsevier.com/biomedical-signal-processing-and-control\n",
      "Biomedical Signal Processing and Control 10 17\n"
     ]
    },
    {
     "name": "stderr",
     "output_type": "stream",
     "text": [
      "\r",
      " 62%|██████▏   | 145/234 [06:17<05:55,  4.00s/it]"
     ]
    },
    {
     "name": "stdout",
     "output_type": "stream",
     "text": [
      "Speech Communication https://www.journals.elsevier.com/speech-communication\n",
      "Speech Communication 10 16\n"
     ]
    },
    {
     "name": "stderr",
     "output_type": "stream",
     "text": [
      "\r",
      " 63%|██████▎   | 147/234 [06:30<06:51,  4.73s/it]"
     ]
    },
    {
     "name": "stdout",
     "output_type": "stream",
     "text": [
      "Wave Motion https://www.journals.elsevier.com/wave-motion\n",
      "Wave Motion 9 15\n"
     ]
    },
    {
     "name": "stderr",
     "output_type": "stream",
     "text": [
      "\r",
      " 68%|██████▊   | 159/234 [06:42<04:30,  3.60s/it]"
     ]
    },
    {
     "name": "stdout",
     "output_type": "stream",
     "text": [
      "Journal of Symbolic Computation http://www.elsevier.com/wps/find/journaldescription.cws_home/622902/description#description\n",
      "Journal of Symbolic Computation bad url https://journalinsights.elsevier.com/journals/0747-7171/review_speed \"07477171, 1095855X\"\n",
      "Journal of Symbolic Computation bad url https://journalinsights.elsevier.com/journals/1095-855X/review_speed \"07477171, 1095855X\"\n"
     ]
    },
    {
     "name": "stderr",
     "output_type": "stream",
     "text": [
      "\r",
      " 72%|███████▏  | 169/234 [07:05<03:29,  3.23s/it]"
     ]
    },
    {
     "name": "stdout",
     "output_type": "stream",
     "text": [
      "Journal of Computational Design and Engineering https://www.journals.elsevier.com/journal-of-computational-design-and-engineering\n",
      "Journal of Computational Design and Engineering bad url https://journalinsights.elsevier.com/journals/2288-5048/review_speed \"22885048, 22884300\"\n",
      "Journal of Computational Design and Engineering bad url https://journalinsights.elsevier.com/journals/2288-4300/review_speed \"22885048, 22884300\"\n"
     ]
    },
    {
     "name": "stderr",
     "output_type": "stream",
     "text": [
      "\r",
      " 73%|███████▎  | 171/234 [07:23<05:08,  4.90s/it]"
     ]
    },
    {
     "name": "stdout",
     "output_type": "stream",
     "text": [
      "Journal of Computational and Applied Mathematics https://www.journals.elsevier.com/journal-of-computational-and-applied-mathematics\n",
      "Journal of Computational and Applied Mathematics 10 15\n"
     ]
    },
    {
     "name": "stderr",
     "output_type": "stream",
     "text": [
      "\r",
      " 74%|███████▎  | 172/234 [07:37<07:57,  7.70s/it]"
     ]
    },
    {
     "name": "stdout",
     "output_type": "stream",
     "text": [
      "Computational Materials Science https://www.journals.elsevier.com/computational-materials-science\n",
      "Computational Materials Science 3 5\n"
     ]
    },
    {
     "name": "stderr",
     "output_type": "stream",
     "text": [
      "\r",
      " 82%|████████▏ | 193/234 [07:52<03:49,  5.61s/it]"
     ]
    },
    {
     "name": "stdout",
     "output_type": "stream",
     "text": [
      "Applied Numerical Mathematics https://www.journals.elsevier.com/applied-numerical-mathematics/\n",
      "Applied Numerical Mathematics 9 12\n"
     ]
    },
    {
     "name": "stderr",
     "output_type": "stream",
     "text": [
      "\r",
      " 85%|████████▍ | 198/234 [08:06<02:50,  4.74s/it]"
     ]
    },
    {
     "name": "stdout",
     "output_type": "stream",
     "text": [
      "Applied Mathematics and Computation https://www.journals.elsevier.com/applied-mathematics-and-computation\n",
      "Applied Mathematics and Computation bad url https://journalinsights.elsevier.com/journals/1873-5649/review_speed \"18735649, 00963003\"\n",
      "Applied Mathematics and Computation 6 7\n"
     ]
    },
    {
     "name": "stderr",
     "output_type": "stream",
     "text": [
      "\r",
      " 85%|████████▌ | 199/234 [08:27<05:39,  9.70s/it]"
     ]
    },
    {
     "name": "stdout",
     "output_type": "stream",
     "text": [
      "Information and Computation https://www.journals.elsevier.com/information-and-computation\n",
      "Information and Computation bad url https://journalinsights.elsevier.com/journals/1090-2651/review_speed \"10902651, 08905401\"\n",
      "Information and Computation bad url https://journalinsights.elsevier.com/journals/0890-5401/review_speed \"10902651, 08905401\"\n"
     ]
    },
    {
     "name": "stderr",
     "output_type": "stream",
     "text": [
      "\r",
      " 88%|████████▊ | 207/234 [08:58<03:34,  7.95s/it]"
     ]
    },
    {
     "name": "stdout",
     "output_type": "stream",
     "text": [
      "Computational Statistics and Data Analysis https://www.journals.elsevier.com/computational-statistics-and-data-analysis\n",
      "Computational Statistics and Data Analysis 5 9\n"
     ]
    },
    {
     "name": "stderr",
     "output_type": "stream",
     "text": [
      "\r",
      " 89%|████████▉ | 208/234 [09:05<03:23,  7.83s/it]"
     ]
    },
    {
     "name": "stdout",
     "output_type": "stream",
     "text": [
      "Journal of Logical and Algebraic Methods in Programming https://www.journals.elsevier.com/journal-of-logical-and-algebraic-methods-in-programming\n",
      "Journal of Logical and Algebraic Methods in Programming bad url https://journalinsights.elsevier.com/journals/2352-2208/review_speed \"23522208, 23522216\"\n",
      "Journal of Logical and Algebraic Methods in Programming bad url https://journalinsights.elsevier.com/journals/2352-2216/review_speed \"23522208, 23522216\"\n"
     ]
    },
    {
     "name": "stderr",
     "output_type": "stream",
     "text": [
      "\r",
      " 90%|████████▉ | 210/234 [09:29<03:35,  8.99s/it]"
     ]
    },
    {
     "name": "stdout",
     "output_type": "stream",
     "text": [
      "Journal of Computer and System Sciences https://www.journals.elsevier.com/journal-of-computer-and-system-sciences\n",
      "Journal of Computer and System Sciences bad url https://journalinsights.elsevier.com/journals/1090-2724/review_speed \"10902724, 00220000\"\n",
      "Journal of Computer and System Sciences bad url https://journalinsights.elsevier.com/journals/0022-0000/review_speed \"10902724, 00220000\"\n"
     ]
    },
    {
     "name": "stderr",
     "output_type": "stream",
     "text": [
      "\r",
      " 94%|█████████▎| 219/234 [09:45<01:42,  6.84s/it]"
     ]
    },
    {
     "name": "stdout",
     "output_type": "stream",
     "text": [
      "Computers and Mathematics with Applications https://www.journals.elsevier.com/computers-and-mathematics-with-applications\n",
      "Computers and Mathematics with Applications 7 9\n"
     ]
    },
    {
     "name": "stderr",
     "output_type": "stream",
     "text": [
      "100%|██████████| 234/234 [09:53<00:00,  2.54s/it]\n"
     ]
    }
   ],
   "source": [
    "import re\n",
    "\n",
    "elsev = {}\n",
    "for k in tqdm.tqdm(good_journals):\n",
    "    url = urls.get(k, '')\n",
    "    if 'elsevier.com' in url:\n",
    "        print (k, url)        \n",
    "        if k not in issn:\n",
    "            continue                \n",
    "        \n",
    "        for i in issn[k].strip('\"').split(','):   \n",
    "            try:\n",
    "                i = i.strip()\n",
    "                i = i[:4]+'-'+i[4:]            \n",
    "                url = 'https://journalinsights.elsevier.com/journals/{}/review_speed'.format(i)\n",
    "                text = requests.get(url).text\n",
    "                clear = re.sub('<[/=\\s!\\'\\\"a-z0-9A-z]+>', ' ', text)\n",
    "                clear = re.sub('\\\\n', ' ', clear)\n",
    "                search = re.search('Metrics\\s+Year\\s+Submission to first decision\\s+Submission to final decision\\s+201\\d\\s+[\\d\\.]+\\s+[\\d\\.]+',\n",
    "                  clear)\n",
    "                if search is None:\n",
    "                    print (k, 'bad url', url, issn[k])\n",
    "                    continue\n",
    "                text = clear[search.span()[0]:search.span()[1]].split()\n",
    "                d1 = int(math.ceil(float(text[-2])))\n",
    "                d2 = int(math.ceil(float(text[-1])))\n",
    "                print (k, d1, d2)\n",
    "                elsev[k] = (d1,d2)\n",
    "                break\n",
    "            except:\n",
    "                print (k, 'exception')\n",
    "            finally:\n",
    "                time.sleep(random.uniform(5, 15))\n",
    "                \n",
    "                "
   ]
  },
  {
   "cell_type": "code",
   "execution_count": 228,
   "metadata": {},
   "outputs": [],
   "source": [
    "with open('elsevier.json', 'w') as out:\n",
    "    import json\n",
    "    out.write(json.dumps(elsev))"
   ]
  },
  {
   "cell_type": "code",
   "execution_count": 229,
   "metadata": {},
   "outputs": [
    {
     "data": {
      "text/plain": [
       "234"
      ]
     },
     "execution_count": 229,
     "metadata": {},
     "output_type": "execute_result"
    }
   ],
   "source": [
    "len(good_journals)"
   ]
  },
  {
   "cell_type": "code",
   "execution_count": 232,
   "metadata": {},
   "outputs": [
    {
     "name": "stdout",
     "output_type": "stream",
     "text": [
      "\n",
      "\n",
      "6\n",
      "\n",
      "\n",
      "\n",
      "6\n",
      "12\n",
      "\n",
      "16\n",
      "8\n",
      "17\n",
      "8\n",
      "14\n",
      "28\n",
      "\n",
      "\n",
      "15\n",
      "11\n",
      "9\n",
      "\n",
      "6\n",
      "\n",
      "19\n",
      "\n",
      "19\n",
      "\n",
      "6\n",
      "\n",
      "6\n",
      "13\n",
      "7\n",
      "\n",
      "12\n",
      "\n",
      "12\n",
      "\n",
      "\n",
      "\n",
      "\n",
      "12\n",
      "\n",
      "15\n",
      "5\n",
      "8\n",
      "9\n",
      "\n",
      "10\n",
      "\n",
      "8\n",
      "\n",
      "\n",
      "\n",
      "\n",
      "\n",
      "\n",
      "\n",
      "\n",
      "\n",
      "\n",
      "13\n",
      "11\n",
      "\n",
      "\n",
      "\n",
      "\n",
      "\n",
      "12\n",
      "7\n",
      "9\n",
      "4\n",
      "\n",
      "10\n",
      "\n",
      "\n",
      "\n",
      "5\n",
      "26\n",
      "17\n",
      "10\n",
      "11\n",
      "\n",
      "3\n",
      "\n",
      "\n",
      "6\n",
      "\n",
      "\n",
      "\n",
      "\n",
      "7\n",
      "\n",
      "28\n",
      "8\n",
      "\n",
      "12\n",
      "\n",
      "10\n",
      "12\n",
      "\n",
      "15\n",
      "6\n",
      "10\n",
      "\n",
      "\n",
      "\n",
      "\n",
      "4\n",
      "5\n",
      "\n",
      "\n",
      "21\n",
      "\n",
      "17\n",
      "6\n",
      "13\n",
      "15\n",
      "10\n",
      "8\n",
      "\n",
      "\n",
      "\n",
      "\n",
      "\n",
      "\n",
      "\n",
      "\n",
      "\n",
      "\n",
      "\n",
      "\n",
      "\n",
      "\n",
      "\n",
      "\n",
      "\n",
      "\n",
      "10\n",
      "\n",
      "\n",
      "\n",
      "\n",
      "\n",
      "11\n",
      "10\n",
      "\n",
      "10\n",
      "\n",
      "10\n",
      "15\n",
      "\n",
      "19\n",
      "\n",
      "\n",
      "\n",
      "\n",
      "\n",
      "\n",
      "9\n",
      "\n",
      "\n",
      "\n",
      "\n",
      "\n",
      "15\n",
      "\n",
      "\n",
      "\n",
      "\n",
      "\n",
      "\n",
      "10\n",
      "5\n",
      "\n",
      "\n",
      "\n",
      "\n",
      "\n",
      "\n",
      "\n",
      "\n",
      "\n",
      "\n",
      "14\n",
      "\n",
      "\n",
      "\n",
      "\n",
      "9\n",
      "13\n",
      "7\n",
      "\n",
      "3\n",
      "\n",
      "8\n",
      "11\n",
      "13\n",
      "9\n",
      "6\n",
      "\n",
      "14\n",
      "\n",
      "\n",
      "\n",
      "\n",
      "\n",
      "\n",
      "5\n",
      "\n",
      "\n",
      "\n",
      "\n",
      "\n",
      "\n",
      "\n",
      "\n",
      "\n",
      "10\n",
      "\n",
      "\n",
      "13\n",
      "14\n",
      "\n",
      "9\n",
      "\n",
      "13\n",
      "\n",
      "7\n",
      "\n",
      "7\n",
      "8\n",
      "7\n",
      "\n",
      "\n"
     ]
    }
   ],
   "source": [
    "for k in good_journals:\n",
    "    if k in springer:\n",
    "        d1 = springer[k][0]\n",
    "        if isinstance(d1, int):\n",
    "            print (d1)\n",
    "        else:\n",
    "            print ('')\n",
    "    elif k in elsev:\n",
    "        print (elsev[k][0])\n",
    "    else:\n",
    "        print ()"
   ]
  },
  {
   "cell_type": "code",
   "execution_count": 233,
   "metadata": {},
   "outputs": [
    {
     "name": "stdout",
     "output_type": "stream",
     "text": [
      "\n",
      "\n",
      "33\n",
      "\n",
      "\n",
      "\n",
      "7\n",
      "19\n",
      "\n",
      "52\n",
      "12\n",
      "40\n",
      "13\n",
      "38\n",
      "68\n",
      "\n",
      "\n",
      "38\n",
      "28\n",
      "49\n",
      "\n",
      "9\n",
      "\n",
      "62\n",
      "\n",
      "66\n",
      "\n",
      "14\n",
      "\n",
      "27\n",
      "43\n",
      "33\n",
      "\n",
      "70\n",
      "\n",
      "45\n",
      "\n",
      "\n",
      "\n",
      "\n",
      "42\n",
      "\n",
      "21\n",
      "7\n",
      "31\n",
      "13\n",
      "\n",
      "47\n",
      "\n",
      "13\n",
      "\n",
      "\n",
      "\n",
      "\n",
      "\n",
      "\n",
      "\n",
      "\n",
      "\n",
      "\n",
      "21\n",
      "42\n",
      "\n",
      "\n",
      "\n",
      "\n",
      "\n",
      "26\n",
      "9\n",
      "13\n",
      "9\n",
      "\n",
      "44\n",
      "\n",
      "\n",
      "\n",
      "7\n",
      "54\n",
      "42\n",
      "13\n",
      "33\n",
      "\n",
      "29\n",
      "\n",
      "\n",
      "8\n",
      "\n",
      "\n",
      "\n",
      "\n",
      "11\n",
      "\n",
      "51\n",
      "12\n",
      "\n",
      "41\n",
      "\n",
      "51\n",
      "42\n",
      "\n",
      "49\n",
      "22\n",
      "12\n",
      "\n",
      "\n",
      "\n",
      "\n",
      "7\n",
      "8\n",
      "\n",
      "\n",
      "47\n",
      "\n",
      "36\n",
      "9\n",
      "28\n",
      "38\n",
      "15\n",
      "12\n",
      "\n",
      "\n",
      "\n",
      "\n",
      "\n",
      "\n",
      "\n",
      "\n",
      "\n",
      "\n",
      "\n",
      "\n",
      "\n",
      "\n",
      "\n",
      "\n",
      "\n",
      "\n",
      "19\n",
      "\n",
      "\n",
      "\n",
      "\n",
      "\n",
      "34\n",
      "17\n",
      "\n",
      "16\n",
      "\n",
      "43\n",
      "67\n",
      "\n",
      "32\n",
      "\n",
      "\n",
      "\n",
      "\n",
      "\n",
      "\n",
      "15\n",
      "\n",
      "\n",
      "\n",
      "\n",
      "\n",
      "32\n",
      "\n",
      "\n",
      "\n",
      "\n",
      "\n",
      "\n",
      "15\n",
      "16\n",
      "\n",
      "\n",
      "\n",
      "\n",
      "\n",
      "\n",
      "\n",
      "\n",
      "\n",
      "\n",
      "41\n",
      "\n",
      "\n",
      "\n",
      "\n",
      "35\n",
      "64\n",
      "56\n",
      "\n",
      "5\n",
      "\n",
      "39\n",
      "36\n",
      "49\n",
      "12\n",
      "7\n",
      "\n",
      "42\n",
      "\n",
      "\n",
      "\n",
      "\n",
      "\n",
      "\n",
      "9\n",
      "\n",
      "\n",
      "\n",
      "\n",
      "\n",
      "\n",
      "\n",
      "\n",
      "\n",
      "77\n",
      "\n",
      "\n",
      "53\n",
      "36\n",
      "\n",
      "35\n",
      "\n",
      "36\n",
      "\n",
      "39\n",
      "\n",
      "9\n",
      "49\n",
      "41\n",
      "\n",
      "\n"
     ]
    }
   ],
   "source": [
    "for k in good_journals:\n",
    "    if k in springer:\n",
    "        d1 = springer[k][1]\n",
    "        if isinstance(d1, int):\n",
    "            print (d1)\n",
    "        else:\n",
    "            print ('')\n",
    "    elif k in elsev:\n",
    "        print (elsev[k][1])\n",
    "    else:\n",
    "        print ()"
   ]
  }
 ],
 "metadata": {
  "kernelspec": {
   "display_name": "Python 3",
   "language": "python",
   "name": "python3"
  },
  "language_info": {
   "codemirror_mode": {
    "name": "ipython",
    "version": 3
   },
   "file_extension": ".py",
   "mimetype": "text/x-python",
   "name": "python",
   "nbconvert_exporter": "python",
   "pygments_lexer": "ipython3",
   "version": "3.8.5"
  }
 },
 "nbformat": 4,
 "nbformat_minor": 4
}
